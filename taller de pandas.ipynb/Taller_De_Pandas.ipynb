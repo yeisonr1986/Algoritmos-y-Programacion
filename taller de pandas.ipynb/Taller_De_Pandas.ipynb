{
  "cells": [
    {
      "cell_type": "markdown",
      "metadata": {
        "id": "qenHNw6vMlK6"
      },
      "source": [
        "#Taller Pandas: Operaciones con Pandas\n",
        "\n",
        "<img src=\"https://upload.wikimedia.org/wikipedia/commons/thumb/e/ed/Pandas_logo.svg/1200px-Pandas_logo.svg.png\" width=\"50%\" style=\"text-align:center\">\n",
        "\n",
        "---"
      ]
    },
    {
      "cell_type": "code",
      "execution_count": 1,
      "metadata": {
        "id": "WM2P_37yNGPr"
      },
      "outputs": [
        {
          "name": "stdout",
          "output_type": "stream",
          "text": [
            "<class 'pandas.core.frame.DataFrame'>\n",
            "Index: 1122 entries, 404 to 103\n",
            "Data columns (total 5 columns):\n",
            " #   Column           Non-Null Count  Dtype \n",
            "---  ------           --------------  ----- \n",
            " 0   nombre           1122 non-null   object\n",
            " 1   poblaciónUrbana  1122 non-null   int64 \n",
            " 2   poblaciónRural   1122 non-null   int64 \n",
            " 3   departamento     1122 non-null   object\n",
            " 4   esCapital        1122 non-null   int64 \n",
            "dtypes: int64(3), object(2)\n",
            "memory usage: 52.6+ KB\n"
          ]
        }
      ],
      "source": [
        "# Vamos a crear el DataFrame a partir de los datos de los municipios de Colombia\n",
        "import pandas as pd\n",
        "import math\n",
        "\n",
        "muns = pd.read_csv(\"https://raw.githubusercontent.com/BrayanTorres2/Algoritmos-y-programacion/refs/heads/main/Data/municipios.csv\", index_col=0)\n",
        "muns.info()"
      ]
    },
    {
      "cell_type": "code",
      "execution_count": 2,
      "metadata": {
        "id": "e5cxWltYQmPX"
      },
      "outputs": [
        {
          "data": {
            "text/html": [
              "<div>\n",
              "<style scoped>\n",
              "    .dataframe tbody tr th:only-of-type {\n",
              "        vertical-align: middle;\n",
              "    }\n",
              "\n",
              "    .dataframe tbody tr th {\n",
              "        vertical-align: top;\n",
              "    }\n",
              "\n",
              "    .dataframe thead th {\n",
              "        text-align: right;\n",
              "    }\n",
              "</style>\n",
              "<table border=\"1\" class=\"dataframe\">\n",
              "  <thead>\n",
              "    <tr style=\"text-align: right;\">\n",
              "      <th></th>\n",
              "      <th>nombre</th>\n",
              "      <th>poblaciónUrbana</th>\n",
              "      <th>poblaciónRural</th>\n",
              "      <th>departamento</th>\n",
              "      <th>esCapital</th>\n",
              "    </tr>\n",
              "    <tr>\n",
              "      <th>código</th>\n",
              "      <th></th>\n",
              "      <th></th>\n",
              "      <th></th>\n",
              "      <th></th>\n",
              "      <th></th>\n",
              "    </tr>\n",
              "  </thead>\n",
              "  <tbody>\n",
              "    <tr>\n",
              "      <th>404</th>\n",
              "      <td>Abejorral</td>\n",
              "      <td>6724</td>\n",
              "      <td>12471</td>\n",
              "      <td>Antioquia</td>\n",
              "      <td>0</td>\n",
              "    </tr>\n",
              "    <tr>\n",
              "      <th>178</th>\n",
              "      <td>Ábrego</td>\n",
              "      <td>17287</td>\n",
              "      <td>21076</td>\n",
              "      <td>Norte de Santander</td>\n",
              "      <td>0</td>\n",
              "    </tr>\n",
              "    <tr>\n",
              "      <th>1090</th>\n",
              "      <td>Abriaquí</td>\n",
              "      <td>738</td>\n",
              "      <td>1337</td>\n",
              "      <td>Antioquia</td>\n",
              "      <td>0</td>\n",
              "    </tr>\n",
              "    <tr>\n",
              "      <th>89</th>\n",
              "      <td>Acacías</td>\n",
              "      <td>60918</td>\n",
              "      <td>11130</td>\n",
              "      <td>Meta</td>\n",
              "      <td>0</td>\n",
              "    </tr>\n",
              "    <tr>\n",
              "      <th>705</th>\n",
              "      <td>Acandí</td>\n",
              "      <td>5259</td>\n",
              "      <td>4246</td>\n",
              "      <td>Chocó</td>\n",
              "      <td>0</td>\n",
              "    </tr>\n",
              "  </tbody>\n",
              "</table>\n",
              "</div>"
            ],
            "text/plain": [
              "           nombre  poblaciónUrbana  poblaciónRural        departamento  \\\n",
              "código                                                                   \n",
              "404     Abejorral             6724           12471           Antioquia   \n",
              "178        Ábrego            17287           21076  Norte de Santander   \n",
              "1090     Abriaquí              738            1337           Antioquia   \n",
              "89        Acacías            60918           11130                Meta   \n",
              "705        Acandí             5259            4246               Chocó   \n",
              "\n",
              "        esCapital  \n",
              "código             \n",
              "404             0  \n",
              "178             0  \n",
              "1090            0  \n",
              "89              0  \n",
              "705             0  "
            ]
          },
          "execution_count": 2,
          "metadata": {},
          "output_type": "execute_result"
        }
      ],
      "source": [
        "muns.head(5)"
      ]
    },
    {
      "cell_type": "code",
      "execution_count": 3,
      "metadata": {},
      "outputs": [
        {
          "data": {
            "text/html": [
              "<div>\n",
              "<style scoped>\n",
              "    .dataframe tbody tr th:only-of-type {\n",
              "        vertical-align: middle;\n",
              "    }\n",
              "\n",
              "    .dataframe tbody tr th {\n",
              "        vertical-align: top;\n",
              "    }\n",
              "\n",
              "    .dataframe thead th {\n",
              "        text-align: right;\n",
              "    }\n",
              "</style>\n",
              "<table border=\"1\" class=\"dataframe\">\n",
              "  <thead>\n",
              "    <tr style=\"text-align: right;\">\n",
              "      <th></th>\n",
              "      <th>nombre</th>\n",
              "      <th>poblaciónUrbana</th>\n",
              "      <th>poblaciónRural</th>\n",
              "      <th>departamento</th>\n",
              "      <th>esCapital</th>\n",
              "    </tr>\n",
              "    <tr>\n",
              "      <th>código</th>\n",
              "      <th></th>\n",
              "      <th></th>\n",
              "      <th></th>\n",
              "      <th></th>\n",
              "      <th></th>\n",
              "    </tr>\n",
              "  </thead>\n",
              "  <tbody>\n",
              "    <tr>\n",
              "      <th>404</th>\n",
              "      <td>Abejorral</td>\n",
              "      <td>6724</td>\n",
              "      <td>12471</td>\n",
              "      <td>Antioquia</td>\n",
              "      <td>0</td>\n",
              "    </tr>\n",
              "    <tr>\n",
              "      <th>178</th>\n",
              "      <td>Ábrego</td>\n",
              "      <td>17287</td>\n",
              "      <td>21076</td>\n",
              "      <td>Norte de Santander</td>\n",
              "      <td>0</td>\n",
              "    </tr>\n",
              "    <tr>\n",
              "      <th>1090</th>\n",
              "      <td>Abriaquí</td>\n",
              "      <td>738</td>\n",
              "      <td>1337</td>\n",
              "      <td>Antioquia</td>\n",
              "      <td>0</td>\n",
              "    </tr>\n",
              "    <tr>\n",
              "      <th>89</th>\n",
              "      <td>Acacías</td>\n",
              "      <td>60918</td>\n",
              "      <td>11130</td>\n",
              "      <td>Meta</td>\n",
              "      <td>0</td>\n",
              "    </tr>\n",
              "    <tr>\n",
              "      <th>705</th>\n",
              "      <td>Acandí</td>\n",
              "      <td>5259</td>\n",
              "      <td>4246</td>\n",
              "      <td>Chocó</td>\n",
              "      <td>0</td>\n",
              "    </tr>\n",
              "  </tbody>\n",
              "</table>\n",
              "</div>"
            ],
            "text/plain": [
              "           nombre  poblaciónUrbana  poblaciónRural        departamento  \\\n",
              "código                                                                   \n",
              "404     Abejorral             6724           12471           Antioquia   \n",
              "178        Ábrego            17287           21076  Norte de Santander   \n",
              "1090     Abriaquí              738            1337           Antioquia   \n",
              "89        Acacías            60918           11130                Meta   \n",
              "705        Acandí             5259            4246               Chocó   \n",
              "\n",
              "        esCapital  \n",
              "código             \n",
              "404             0  \n",
              "178             0  \n",
              "1090            0  \n",
              "89              0  \n",
              "705             0  "
            ]
          },
          "execution_count": 3,
          "metadata": {},
          "output_type": "execute_result"
        }
      ],
      "source": [
        "muns.iloc[0:5]"
      ]
    },
    {
      "cell_type": "code",
      "execution_count": 4,
      "metadata": {
        "id": "00f31GRCRBJL"
      },
      "outputs": [
        {
          "data": {
            "text/html": [
              "<div>\n",
              "<style scoped>\n",
              "    .dataframe tbody tr th:only-of-type {\n",
              "        vertical-align: middle;\n",
              "    }\n",
              "\n",
              "    .dataframe tbody tr th {\n",
              "        vertical-align: top;\n",
              "    }\n",
              "\n",
              "    .dataframe thead th {\n",
              "        text-align: right;\n",
              "    }\n",
              "</style>\n",
              "<table border=\"1\" class=\"dataframe\">\n",
              "  <thead>\n",
              "    <tr style=\"text-align: right;\">\n",
              "      <th></th>\n",
              "      <th>poblaciónUrbana</th>\n",
              "      <th>poblaciónRural</th>\n",
              "      <th>esCapital</th>\n",
              "    </tr>\n",
              "  </thead>\n",
              "  <tbody>\n",
              "    <tr>\n",
              "      <th>count</th>\n",
              "      <td>1.122000e+03</td>\n",
              "      <td>1122.000000</td>\n",
              "      <td>1122.000000</td>\n",
              "    </tr>\n",
              "    <tr>\n",
              "      <th>mean</th>\n",
              "      <td>3.363703e+04</td>\n",
              "      <td>10198.901961</td>\n",
              "      <td>0.028520</td>\n",
              "    </tr>\n",
              "    <tr>\n",
              "      <th>std</th>\n",
              "      <td>2.715733e+05</td>\n",
              "      <td>11719.567160</td>\n",
              "      <td>0.166529</td>\n",
              "    </tr>\n",
              "    <tr>\n",
              "      <th>min</th>\n",
              "      <td>0.000000e+00</td>\n",
              "      <td>182.000000</td>\n",
              "      <td>0.000000</td>\n",
              "    </tr>\n",
              "    <tr>\n",
              "      <th>25%</th>\n",
              "      <td>1.895500e+03</td>\n",
              "      <td>3697.250000</td>\n",
              "      <td>0.000000</td>\n",
              "    </tr>\n",
              "    <tr>\n",
              "      <th>50%</th>\n",
              "      <td>4.995000e+03</td>\n",
              "      <td>6738.000000</td>\n",
              "      <td>0.000000</td>\n",
              "    </tr>\n",
              "    <tr>\n",
              "      <th>75%</th>\n",
              "      <td>1.306500e+04</td>\n",
              "      <td>12722.000000</td>\n",
              "      <td>0.000000</td>\n",
              "    </tr>\n",
              "    <tr>\n",
              "      <th>max</th>\n",
              "      <td>8.063991e+06</td>\n",
              "      <td>173143.000000</td>\n",
              "      <td>1.000000</td>\n",
              "    </tr>\n",
              "  </tbody>\n",
              "</table>\n",
              "</div>"
            ],
            "text/plain": [
              "       poblaciónUrbana  poblaciónRural    esCapital\n",
              "count     1.122000e+03     1122.000000  1122.000000\n",
              "mean      3.363703e+04    10198.901961     0.028520\n",
              "std       2.715733e+05    11719.567160     0.166529\n",
              "min       0.000000e+00      182.000000     0.000000\n",
              "25%       1.895500e+03     3697.250000     0.000000\n",
              "50%       4.995000e+03     6738.000000     0.000000\n",
              "75%       1.306500e+04    12722.000000     0.000000\n",
              "max       8.063991e+06   173143.000000     1.000000"
            ]
          },
          "execution_count": 4,
          "metadata": {},
          "output_type": "execute_result"
        }
      ],
      "source": [
        "# Presente la estadística descriptiva de la información del dataframe\n",
        "muns.describe()"
      ]
    },
    {
      "cell_type": "code",
      "execution_count": 5,
      "metadata": {
        "id": "r2puX6jFOFph"
      },
      "outputs": [
        {
          "name": "stdout",
          "output_type": "stream",
          "text": [
            "Cantidad de municipios = 1122\n"
          ]
        }
      ],
      "source": [
        "# Hallar la cantidad de municipios en el DataFrame\n",
        "num_municipios = len(muns)\n",
        "\n",
        "assert num_municipios == 1122\n",
        "\n",
        "print(\"Cantidad de municipios =\", num_municipios)"
      ]
    },
    {
      "cell_type": "code",
      "execution_count": 6,
      "metadata": {
        "id": "IFmPyM2eOOsl"
      },
      "outputs": [
        {
          "name": "stdout",
          "output_type": "stream",
          "text": [
            "Prueba superada 💪🏽\n"
          ]
        }
      ],
      "source": [
        "# Determinar el promedio de la población rural de todos los municipios del país\n",
        "prom = muns.poblaciónRural.mean()\n",
        "\n",
        "assert math.isclose(10198.901961, prom, rel_tol=1e-6)\n",
        "print(\"Prueba superada 💪🏽\")"
      ]
    },
    {
      "cell_type": "code",
      "execution_count": 11,
      "metadata": {
        "id": "0KypXfWWPq3Y"
      },
      "outputs": [
        {
          "name": "stdout",
          "output_type": "stream",
          "text": [
            "Hay 11 municipios en Amazonas\n",
            "Prueba superada 💪🏽\n"
          ]
        }
      ],
      "source": [
        "# Halle la cantidad total de municipio del departamento de Amazonas\n",
        "n = (muns[\"departamento\"]== \"Amazonas\").sum()\n",
        "\n",
        "print(f\"Hay {n} municipios en Amazonas\")\n",
        "assert n == 11\n",
        "print(\"Prueba superada 💪🏽\")"
      ]
    },
    {
      "cell_type": "code",
      "execution_count": 12,
      "metadata": {
        "id": "zYt_N7cVQQs7"
      },
      "outputs": [
        {
          "name": "stdout",
          "output_type": "stream",
          "text": [
            "Prueba superada 💪🏽\n"
          ]
        }
      ],
      "source": [
        "# Escriba una función que reciba el nombre de un departamento y que retorne cuántos municipios hay\n",
        "# en el departamento con ese nombre.\n",
        "def municipios_departamento(muns: pd.DataFrame, nombre: str) -> int:\n",
        "    n = (muns[\"departamento\"]==nombre).sum()\n",
        "    return n\n",
        "\n",
        "# Pruebas de la función anterior\n",
        "assert municipios_departamento(muns, \"Cundinamarca\") == 117\n",
        "assert municipios_departamento(muns, \"Boyacá\") == 123\n",
        "assert municipios_departamento(muns, \"Vichada\") == 4\n",
        "print(\"Prueba superada 💪🏽\")"
      ]
    },
    {
      "cell_type": "code",
      "execution_count": 16,
      "metadata": {
        "id": "HtjzXj3uRE_G"
      },
      "outputs": [
        {
          "name": "stdout",
          "output_type": "stream",
          "text": [
            "Prueba superada 💪🏽\n"
          ]
        }
      ],
      "source": [
        "# Escriba una expresión que permita encontrar los nombres de los municipios que tienen\n",
        "# menos de 500 habitantes en la población rural\n",
        "m = muns[muns[\"poblaciónRural\"] < 500][\"nombre\"]\n",
        "\n",
        "# Prueba\n",
        "assert m.sort_values().to_list() == ['La Guadalupe', 'Santa Lucía', 'Soplaviento', 'Suan']\n",
        "print(\"Prueba superada 💪🏽\")"
      ]
    },
    {
      "cell_type": "code",
      "execution_count": 17,
      "metadata": {
        "id": "zjcXOdWyA8-5"
      },
      "outputs": [
        {
          "name": "stdout",
          "output_type": "stream",
          "text": [
            "Prueba superada 💪🏽\n"
          ]
        }
      ],
      "source": [
        "# Cual es la suma total de la población urbana de todos los municipios\n",
        "pob_urb = muns[\"poblaciónUrbana\"].sum()\n",
        "\n",
        "# Prueba\n",
        "assert pob_urb == 37_740_751\n",
        "print(\"Prueba superada 💪🏽\")"
      ]
    },
    {
      "cell_type": "code",
      "execution_count": 18,
      "metadata": {
        "id": "d6Pt4uzlCqBT"
      },
      "outputs": [
        {
          "name": "stdout",
          "output_type": "stream",
          "text": [
            "Prueba superada 💪🏽\n"
          ]
        }
      ],
      "source": [
        "# Hallar la suma de la población urbana de los municipios de los departamentos\n",
        "# del eje cafetero: Caldas, Quindio o Risaralda\n",
        "pob_eje_cafetero = muns[muns[\"departamento\"].isin([\"Caldas\", \"Quindio\", \"Risaralda\"])][\"poblaciónUrbana\"].sum()\n",
        "\n",
        "# Prueba\n",
        "assert pob_eje_cafetero == 1_471_055\n",
        "print(\"Prueba superada 💪🏽\")"
      ]
    },
    {
      "cell_type": "code",
      "execution_count": 19,
      "metadata": {
        "id": "8hsf6HZ-THGp"
      },
      "outputs": [],
      "source": [
        "# Encontrar el nombre del municipio que es la capital (esCapital == 1) del departamento de Casanare\n",
        "capital_casanare = muns[(muns[\"departamento\"] == \"Casanare\") & (muns[\"esCapital\"] == 1)][\"nombre\"].iloc[0]\n"
      ]
    },
    {
      "cell_type": "code",
      "execution_count": 20,
      "metadata": {
        "id": "8HR_nr40EtHe"
      },
      "outputs": [
        {
          "name": "stdout",
          "output_type": "stream",
          "text": [
            "Prueba superada 💪🏽\n"
          ]
        }
      ],
      "source": [
        "# Encontrar cuantos municipios tienen una población urbana inferior al promedio\n",
        "# de la población urbama de todo el pais\n",
        "prom_poblacion_urbana = muns[\"poblaciónUrbana\"].mean()\n",
        "cant_muns_pobl_inf_prom = (muns[\"poblaciónUrbana\"] < prom_poblacion_urbana).sum()\n",
        "\n",
        "# Prueba\n",
        "assert cant_muns_pobl_inf_prom == 998\n",
        "print(\"Prueba superada 💪🏽\")"
      ]
    },
    {
      "cell_type": "code",
      "execution_count": 21,
      "metadata": {
        "id": "-Wz3v-gs7FFn"
      },
      "outputs": [],
      "source": [
        "# Presentar el nombre y problación urbana de los municipios cuya población urbana esté entre el millón y los tres millones\n",
        "# de habitantes.\n",
        "jugadores_entre_1_y_3_millones = muns[(muns[\"poblaciónUrbana\"] >= 1_000_000) & (muns[\"poblaciónUrbana\"] <= 3_000_000)][[\"nombre\"]]"
      ]
    },
    {
      "cell_type": "code",
      "execution_count": 22,
      "metadata": {
        "id": "ja3JFZ2NV3uR"
      },
      "outputs": [
        {
          "data": {
            "text/html": [
              "<div>\n",
              "<style scoped>\n",
              "    .dataframe tbody tr th:only-of-type {\n",
              "        vertical-align: middle;\n",
              "    }\n",
              "\n",
              "    .dataframe tbody tr th {\n",
              "        vertical-align: top;\n",
              "    }\n",
              "\n",
              "    .dataframe thead th {\n",
              "        text-align: right;\n",
              "    }\n",
              "</style>\n",
              "<table border=\"1\" class=\"dataframe\">\n",
              "  <thead>\n",
              "    <tr style=\"text-align: right;\">\n",
              "      <th></th>\n",
              "      <th>nombre</th>\n",
              "      <th>poblaciónUrbana</th>\n",
              "      <th>poblaciónRural</th>\n",
              "      <th>departamento</th>\n",
              "      <th>esCapital</th>\n",
              "    </tr>\n",
              "    <tr>\n",
              "      <th>código</th>\n",
              "      <th></th>\n",
              "      <th></th>\n",
              "      <th></th>\n",
              "      <th></th>\n",
              "      <th></th>\n",
              "    </tr>\n",
              "  </thead>\n",
              "  <tbody>\n",
              "    <tr>\n",
              "      <th>404</th>\n",
              "      <td>Abejorral</td>\n",
              "      <td>6724</td>\n",
              "      <td>12471</td>\n",
              "      <td>Antioquia</td>\n",
              "      <td>0</td>\n",
              "    </tr>\n",
              "    <tr>\n",
              "      <th>178</th>\n",
              "      <td>Ábrego</td>\n",
              "      <td>17287</td>\n",
              "      <td>21076</td>\n",
              "      <td>Norte de Santander</td>\n",
              "      <td>0</td>\n",
              "    </tr>\n",
              "    <tr>\n",
              "      <th>1090</th>\n",
              "      <td>Abriaquí</td>\n",
              "      <td>738</td>\n",
              "      <td>1337</td>\n",
              "      <td>Antioquia</td>\n",
              "      <td>0</td>\n",
              "    </tr>\n",
              "    <tr>\n",
              "      <th>215</th>\n",
              "      <td>Acevedo</td>\n",
              "      <td>6515</td>\n",
              "      <td>27098</td>\n",
              "      <td>Huila</td>\n",
              "      <td>0</td>\n",
              "    </tr>\n",
              "    <tr>\n",
              "      <th>323</th>\n",
              "      <td>Achí</td>\n",
              "      <td>4193</td>\n",
              "      <td>19258</td>\n",
              "      <td>Bolívar</td>\n",
              "      <td>0</td>\n",
              "    </tr>\n",
              "  </tbody>\n",
              "</table>\n",
              "</div>"
            ],
            "text/plain": [
              "           nombre  poblaciónUrbana  poblaciónRural        departamento  \\\n",
              "código                                                                   \n",
              "404     Abejorral             6724           12471           Antioquia   \n",
              "178        Ábrego            17287           21076  Norte de Santander   \n",
              "1090     Abriaquí              738            1337           Antioquia   \n",
              "215       Acevedo             6515           27098               Huila   \n",
              "323          Achí             4193           19258             Bolívar   \n",
              "\n",
              "        esCapital  \n",
              "código             \n",
              "404             0  \n",
              "178             0  \n",
              "1090            0  \n",
              "215             0  \n",
              "323             0  "
            ]
          },
          "execution_count": 22,
          "metadata": {},
          "output_type": "execute_result"
        }
      ],
      "source": [
        "# Presentar toda la información de aquellos municipios donde la población rural supere a la población urbana\n",
        "muns_rural_mayor_urbana = muns[muns[\"poblaciónRural\"] > muns[\"poblaciónUrbana\"]]\n",
        "\n",
        "muns_rural_mayor_urbana.head()"
      ]
    },
    {
      "cell_type": "code",
      "execution_count": 23,
      "metadata": {
        "id": "VlKO9x3a7GYe"
      },
      "outputs": [
        {
          "name": "stdout",
          "output_type": "stream",
          "text": [
            "Cantidad de capitales: 0\n"
          ]
        }
      ],
      "source": [
        "# Cuantas capitales hay en el dataframe\n",
        "num_capitales = (muns[\"esCapital\"] == \"Sí\").sum()\n",
        "print(\"Cantidad de capitales:\", num_capitales)"
      ]
    },
    {
      "cell_type": "code",
      "execution_count": 21,
      "metadata": {
        "id": "6J_GRk6S7_ve"
      },
      "outputs": [
        {
          "ename": "AttributeError",
          "evalue": "'DataFrame' object has no attribute 'escapital'",
          "output_type": "error",
          "traceback": [
            "\u001b[31m---------------------------------------------------------------------------\u001b[39m",
            "\u001b[31mAttributeError\u001b[39m                            Traceback (most recent call last)",
            "\u001b[32m~\\AppData\\Local\\Temp\\ipykernel_19380\\677272033.py\u001b[39m in \u001b[36m?\u001b[39m\u001b[34m()\u001b[39m\n\u001b[32m      1\u001b[39m \u001b[38;5;66;03m# Determinar cuántos capitales tiene una población inferior a los 100 mil habitantes\u001b[39;00m\n\u001b[32m----> \u001b[39m\u001b[32m2\u001b[39m a=muns[(muns.escapital==\u001b[32m1\u001b[39m) & (muns.poblacionUrbana< \u001b[32m100_000\u001b[39m)]\n\u001b[32m      3\u001b[39m print(len(a))\n",
            "\u001b[32m~\\AppData\\Local\\Packages\\PythonSoftwareFoundation.Python.3.11_qbz5n2kfra8p0\\LocalCache\\local-packages\\Python311\\site-packages\\pandas\\core\\generic.py\u001b[39m in \u001b[36m?\u001b[39m\u001b[34m(self, name)\u001b[39m\n\u001b[32m   6295\u001b[39m             \u001b[38;5;28;01mand\u001b[39;00m name \u001b[38;5;28;01mnot\u001b[39;00m \u001b[38;5;28;01min\u001b[39;00m self._accessors\n\u001b[32m   6296\u001b[39m             \u001b[38;5;28;01mand\u001b[39;00m self._info_axis._can_hold_identifiers_and_holds_name(name)\n\u001b[32m   6297\u001b[39m         ):\n\u001b[32m   6298\u001b[39m             \u001b[38;5;28;01mreturn\u001b[39;00m self[name]\n\u001b[32m-> \u001b[39m\u001b[32m6299\u001b[39m         \u001b[38;5;28;01mreturn\u001b[39;00m object.__getattribute__(self, name)\n",
            "\u001b[31mAttributeError\u001b[39m: 'DataFrame' object has no attribute 'escapital'"
          ]
        }
      ],
      "source": [
        "# Determinar cuántos capitales tiene una población inferior a los 100 mil habitantes\n",
        "a=muns[(muns.escapital==1) & (muns.poblacionUrbana< 100_000)]\n",
        "print(len(a))"
      ]
    }
  ],
  "metadata": {
    "colab": {
      "provenance": []
    },
    "kernelspec": {
      "display_name": "Python 3",
      "name": "python3"
    },
    "language_info": {
      "codemirror_mode": {
        "name": "ipython",
        "version": 3
      },
      "file_extension": ".py",
      "mimetype": "text/x-python",
      "name": "python",
      "nbconvert_exporter": "python",
      "pygments_lexer": "ipython3",
      "version": "3.11.9"
    }
  },
  "nbformat": 4,
  "nbformat_minor": 0
}
