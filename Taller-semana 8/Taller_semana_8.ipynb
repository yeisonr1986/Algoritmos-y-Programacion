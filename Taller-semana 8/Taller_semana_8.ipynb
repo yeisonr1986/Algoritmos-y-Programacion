{
  "cells": [
    {
      "cell_type": "markdown",
      "metadata": {
        "id": "QZ6XziVD76Jw"
      },
      "source": [
        "<h1 align=\"center\">Taller - Instrucciones repetitivas en Python</h1>\n",
        "\n",
        "Desarrolle la solucion a los siguientes problemas en Python, usando funciones y el programa correspondiente\n",
        "\n",
        "---"
      ]
    },
    {
      "cell_type": "markdown",
      "metadata": {
        "id": "uJJp2xk076J1"
      },
      "source": [
        "## Ejercicio 01\n",
        "\n",
        "Una librería ofrece dos tipos de descuentos ante la compra de un libro. Si el libro tiene un precio inferior a cien mil pesos, el descuento es del 12% del precio; pero en cualquier otro caso, el descuento asciende a un 18%.\n",
        "\n",
        "* Escriba una función que halle el precio neto de un libro (precio menos descuento) de un libro, dado el precio del libro.\n",
        "* Ahora, escriba un programa que permita leer el precio de varios libros (finalizar cuando el precio es cero o negativo) y mostrar para cada libro, el precio neto (usando la función desarrollada anteriormente)"
      ]
    },
    {
      "cell_type": "code",
      "execution_count": null,
      "metadata": {
        "colab": {
          "base_uri": "https://localhost:8080/"
        },
        "id": "58mamZV176J2",
        "outputId": "b98a4cf5-326a-487a-f0b4-65c0ef779334"
      },
      "outputs": [
        {
          "name": "stdout",
          "output_type": "stream",
          "text": [
            "ingrese precio del libro:100000\n",
            "el precio neto es: 100000.0\n",
            "ingrese precio del libro:80000\n",
            "el precio neto es: 80000.0\n"
          ]
        }
      ],
      "source": [
        "# Definición de la función\n",
        "def hallar_precio_neto(precio_libro:float)->float:\n",
        "  if(precio_libro<100_000):\n",
        "    precio_neto=precio_libro-(precio_libro*0.12)\n",
        "  else:\n",
        "    precio_neto=precio_libro-(precio_libro*0.18)\n",
        "  return precio_neto\n",
        "\n",
        "\n",
        "\n",
        "\n",
        "# Programa principal\n",
        "precio_libro=float(input(\"ingrese precio del libro:\"))\n",
        "\n",
        "while precio_libro>0:\n",
        "  precio_neto=hallar_precio_neto(precio_libro)\n",
        "  print(\"el precio neto es:\",precio_libro)\n",
        "  precio_libro=float(input(\"ingrese precio del libro:\"))\n"
      ]
    },
    {
      "cell_type": "code",
      "execution_count": null,
      "metadata": {
        "id": "inr5tUP_Vjyb"
      },
      "outputs": [],
      "source": []
    },
    {
      "cell_type": "markdown",
      "metadata": {
        "id": "jF4Qm9FE76J3"
      },
      "source": [
        "---"
      ]
    },
    {
      "cell_type": "markdown",
      "metadata": {
        "id": "weyR_q0d76J4"
      },
      "source": [
        "## Ejercicio 02\n",
        "\n",
        "Un vendedor recibe una comisión por el volumen de ventas que realice. Las reglas para asignarle la comisión al vendedor son las siguientes:\n",
        "\n",
        "Ventas | Comisión\n",
        "---|---\n",
        "Inferior a 50 mil pesos | 7% de las ventas\n",
        "Entre 50 mil y 100 mil pesos | 9% de las ventas más 5 mil pesos\n",
        "Entre 100 mil y 200 mil pesos | 11% de las ventas más 10 mil pesos\n",
        "Entre 200 mil y 500 mil pesos | 13% de las ventas más 20 mil pesos\n",
        "Más de 500 mil pesos | 15% de las ventas más 40 mil pesos\n",
        "\n",
        "* Escriba una función que recibe el valor de las ventas de un vendedor y que retorne la comisión\n",
        "* Escriba un programa que lea el valor de ventas de varios vendedores de la empresa (finalizar cuando las ventas sean negativas), y usando la función anterior, calcule la comisión y la imprima por pantalla."
      ]
    },
    {
      "cell_type": "code",
      "execution_count": null,
      "metadata": {
        "colab": {
          "background_save": true,
          "base_uri": "https://localhost:8080/"
        },
        "id": "kMitVJVW76J4",
        "outputId": "8d42f929-1110-45ab-9a8e-5698252eb633"
      },
      "outputs": [
        {
          "name": "stdout",
          "output_type": "stream",
          "text": [
            "la comision es : 86750.0\n"
          ]
        }
      ],
      "source": [
        "# Definicion de la funcion\n",
        "def halla_comision(total_ventas:float)->float:\n",
        "  if(total_ventas<50_000):\n",
        "    comision= total_ventas+(total_ventas*0.07)\n",
        "  elif(total_ventas>=50_000 and total_ventas<=100_000):\n",
        "    comision= total_ventas+(total_ventas*0.09)+ 5_000\n",
        "  elif(total_ventas>=100_000 and total_ventas<=200_000):\n",
        "    comision= total_ventas+(total_ventas*0.11)+10_000\n",
        "  elif(total_ventas>=200_000 and total_ventas<=500_000):\n",
        "    comision= total_ventas+(total_ventas*0.13)+ 20_000\n",
        "  elif(total_ventas>500_000):\n",
        "    comision= total_ventas+(total_ventas*0.15)+ 40_000\n",
        "  return comision\n",
        "\n",
        "\n",
        "\n",
        "\n",
        "# Programa principal\n",
        "total_ventas=float(input(\"ingrese valor de ventas:\"))\n",
        "while total_ventas>0:\n",
        "  comision= halla_comision(total_ventas)\n",
        "  print(\"la comision es :\",comision)\n",
        "  total_ventas=float(input(\"ingrese valor de ventas:\"))\n"
      ]
    },
    {
      "cell_type": "markdown",
      "metadata": {
        "id": "v5m7WuGBRsqS"
      },
      "source": []
    },
    {
      "cell_type": "markdown",
      "metadata": {
        "id": "YWyFJrR876J4"
      },
      "source": [
        "---\n"
      ]
    },
    {
      "cell_type": "markdown",
      "metadata": {
        "id": "2IHUrLVh76J5"
      },
      "source": [
        "## Ejercicio 03\n",
        "\n",
        "Una empresa ofrece a sus empleados un salario mensual fijo, y un porcertaje de las ventas como una comisión adicional a ese salario mensual. Esta comisión se calcula de la siguiente manera: si las ventas de un empleado excede los 50 mil pesoso, la comisión será de un 12% de las ventas que están por encima de los 50 mil pesos, en otro caso no habrá comisión.\n",
        "\n",
        "* Primero, construya una función en la que dado las ventas que hizo el empleado, determine cuánto es la comisión\n",
        "* Ahora hay que hacer un programa que calcule y muestre los salarios y comisiones de todos los empleados de la empresa. Para cada empleado hay que preguntarle al usuario, el salario mensual y las ventas realizadas, y mostrar la comisión por las ventas (usando la función anterior) y el salario neto (salario más comisión). Como no sabemos cuántos empleados hay, después de mostrar esta información, debemos preguntarle al usuario si desea seguir o no."
      ]
    },
    {
      "cell_type": "code",
      "execution_count": null,
      "metadata": {
        "id": "aTuMvKmw76J5",
        "colab": {
          "base_uri": "https://localhost:8080/"
        },
        "outputId": "4e493f25-0336-4944-9b47-d56c182e28bc"
      },
      "outputs": [
        {
          "name": "stdout",
          "output_type": "stream",
          "text": [
            "ingrese salario mensual:750000\n",
            "ingrese ventas realizadas:25\n",
            "comision por ventas: 0\n",
            "salrio neto: 750000.0\n",
            "¿desea seguir (si/no):si\n"
          ]
        }
      ],
      "source": [
        "# Definición de la función\n",
        "def salario_comision(salario_fijo:float,ventas:float)->(float,float):\n",
        "   if(ventas>=50_000):\n",
        "    comision= ventas*0.12\n",
        "    salario_neto=salario_fijo+comision\n",
        "   else:\n",
        "    comision=0\n",
        "    salario_neto=salario_fijo+comision\n",
        "   return comision , salario_neto\n",
        "\n",
        "\n",
        "# Programa principal\n",
        "while True:\n",
        "  salario_fijo=float(input(\"ingrese salario mensual:\"))\n",
        "  ventas=float(input(\"ingrese ventas realizadas:\"))\n",
        "\n",
        "  comision, salario_neto=salario_comision(salario_fijo,ventas)\n",
        "  print(\"comision por ventas:\",comision,)\n",
        "  salario_neto=salario_fijo + comision\n",
        "  print(\"salrio neto:\",salario_neto)\n",
        "\n",
        "  continuar=input(\"¿desea seguir (si/no):\")\n",
        "  if continuar ==\"no\":\n",
        "     break\n",
        "  else:\n",
        "      continue\n",
        "\n"
      ]
    },
    {
      "cell_type": "markdown",
      "metadata": {
        "id": "6M93ZEZh76J5"
      },
      "source": [
        "---"
      ]
    },
    {
      "cell_type": "markdown",
      "metadata": {
        "id": "ge6TBY0P76J6"
      },
      "source": [
        "## Ejercicio 04\n",
        "\n",
        "En una empresa se le paga a los trabajadores al final de cada semana de acuerdo a las reglas dadas a continuación:\n",
        "\n",
        "* Si trabajas 35 horas o menos, se le paga un valor de 15 mil pesos la hora;\n",
        "* Si trabaja más de 35 horas pero menos de 60, el valor de la hora es de 15 mil por las primeras 35 horas y de 18 mil por cada hora trabajada por encima de las 35\n",
        "* Si trabaja más de 60 horas, las primeras 35 se pagan a 15 mil, las siguiente 25 horas a 18 mil cada una y las horas horas trabajadas por encima de las 60 horas, se le paga a 25 mil pesos cada una.\n",
        "\n",
        "Vamos a buscar imprimir el salario semanal de cada uno de los empleados de la empresa. Para ello:\n",
        "\n",
        "* Escriba una función que reciba el número de horas trabajadas por un empleado y retorne el salario\n",
        "* Un programa que le pregunte al usuario el número de empleados que trabajan en la empresa, y para cada uno de esos, pregunte el número de horas trabajadas en la semana, y usando la función anterior, imprima el salario mensual de ese empleado."
      ]
    },
    {
      "cell_type": "code",
      "execution_count": null,
      "metadata": {
        "id": "o8NultX076J6"
      },
      "outputs": [],
      "source": [
        "# Definición de la función\n",
        "def calcular_salario(horas_trabajadas):\n",
        "    if horas_trabajadas<= 35:\n",
        "      salario = 35 * 15_000\n",
        "    elif horas_trabajadas > 35 and horas_trabajadas<=60:\n",
        "      salario = 35 * 15000 + (horas_trabajadas - 35) * 18000\n",
        "    elif horas_trabajadas>60:\n",
        "      salario = 35_000 * 15_000 + 25 * 18_000 + (horas_trabajadas-60) * 25_000\n",
        "    return salario\n",
        "\n",
        "\n",
        "# Programa principal\n",
        "while True:\n",
        "numero_empleados=int(input(\"ingrese elnumero de empleados: \"))\n",
        "for _ in range(numero empleados):\n",
        "   horas_trabajadas=float(input(\"ingrese el numero de horas trabajadas del empleado:\"))\n",
        "    salario= calcular_salario(horas_trabajadas)\n",
        "    print(f\"el salario del empleado es: {salario:.2f} pesos \")\n"
      ]
    }
  ],
  "metadata": {
    "colab": {
      "provenance": []
    },
    "kernelspec": {
      "display_name": "Python 3",
      "language": "python",
      "name": "python3"
    },
    "language_info": {
      "codemirror_mode": {
        "name": "ipython",
        "version": 3
      },
      "file_extension": ".py",
      "mimetype": "text/x-python",
      "name": "python",
      "nbconvert_exporter": "python",
      "pygments_lexer": "ipython3",
      "version": "3.7.7"
    }
  },
  "nbformat": 4,
  "nbformat_minor": 0
}