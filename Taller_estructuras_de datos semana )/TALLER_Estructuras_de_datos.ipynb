{
  "cells": [
    {
      "cell_type": "markdown",
      "metadata": {
        "deletable": false,
        "editable": false,
        "nbgrader": {
          "cell_type": "markdown",
          "checksum": "1b8fe08ac53f0fd3a70d6408035ea52e",
          "grade": false,
          "grade_id": "header",
          "locked": true,
          "schema_version": 3,
          "solution": false,
          "task": false
        },
        "tags": [
          "{}"
        ],
        "id": "zKRat3J-cyBl"
      },
      "source": [
        "# Estructuras de datos: listas, tuplas, conjuntos y diccionarios\n",
        "\n",
        "En este taller implementarás listas, tuplas y diccionarios para resolver diversos ejercicios.\n",
        "\n",
        "\n",
        "## Habilidades en práctica\n",
        "\n",
        "Al realizar este taller podrás revisar tu progreso para:\n",
        "\n",
        "**1.** Declarar tuplas, listas y diccionarios.<br>\n",
        "**2.** Consultar y modificar los valores almacenados en estructuras de datos y estructuras de datos anidadas.<br>\n",
        "**3.** Utilizar el rebanado en estructuras de datos ordenadas (listas y tuplas).<br>\n",
        "**4.** Utilizar métodos para modificar, reordenar, u operar estructuras de datos.<br>\n",
        "\n",
        "\n",
        "## Instrucciones\n",
        "\n",
        "En cada uno de los siguientes ejercicios deberás escribir el código solicitado estrictamente en las celdas indicadas para ello, teniendo en cuenta las siguientes recomendaciones:\n",
        "\n",
        "* No crear, eliminar o modificar celdas de este Notebook (salvo lo que se te indique), pues puede verse afectado el proceso de calificación automática.\n",
        "* La calificación se realiza de manera automática con datos diferentes a los proporcionados en este taller. Por consiguiente, tu código debe funcionar para diferentes instancias de cada uno de los ejercicios; una instancia hace referencia al valor de los parámetros.\n",
        "* La calificación de cada ejercicio depende del valor que tome la variable especificada en su enunciado. Por lo tanto, aunque declares variables adicionales en tu código, es escencial que utilices los nombres de las variables propuestas en los enunciados de los ejercicios para guardar el resultado final.\n",
        "\n",
        "A continuación puedes ver un ejemplo de los enunciados y ejercicios que encontrarás en este taller."
      ]
    },
    {
      "cell_type": "markdown",
      "metadata": {
        "deletable": false,
        "editable": false,
        "nbgrader": {
          "cell_type": "markdown",
          "checksum": "e46a13b131e2cda0ccf48a853dc28bd0",
          "grade": false,
          "grade_id": "eje-enun",
          "locked": true,
          "schema_version": 3,
          "solution": false,
          "task": false
        },
        "id": "JllQwJPgcyBo"
      },
      "source": [
        "## Meses del año\n",
        "\n",
        "A continuación encuentras una lista llamada `lista_meses` que contiene todos los meses del año."
      ]
    },
    {
      "cell_type": "code",
      "execution_count": null,
      "metadata": {
        "deletable": false,
        "editable": false,
        "nbgrader": {
          "cell_type": "code",
          "checksum": "8341d80a36fa6107b7d86cdbe1b76ee8",
          "grade": false,
          "grade_id": "eje-data",
          "locked": true,
          "schema_version": 3,
          "solution": false,
          "task": false
        },
        "id": "b7OIkPLTcyBo"
      },
      "outputs": [],
      "source": [
        "# No modifiques esta celda\n",
        "\n",
        "lista_meses = ['Enero', 'Febrero', 'Marzo', 'Abril', 'Mayo', 'Junio', 'Julio', 'Agosto', 'Septiembre', 'Octubre', 'Noviembre', 'Diciembre']"
      ]
    },
    {
      "cell_type": "code",
      "execution_count": null,
      "metadata": {
        "id": "piCzsuo1cyBp"
      },
      "outputs": [],
      "source": [
        "#sacar de la lisa meses todos los meses que inicien con la letra J\n",
        "lista_meses_j = [mes for mes in lista_meses if mes[0] == 'J']"
      ]
    },
    {
      "cell_type": "markdown",
      "metadata": {
        "deletable": false,
        "editable": false,
        "nbgrader": {
          "cell_type": "markdown",
          "checksum": "c8c88462abb9397857148a91d1fec761",
          "grade": false,
          "grade_id": "eje-task",
          "locked": true,
          "schema_version": 3,
          "solution": false,
          "task": false
        },
        "id": "5LbPeiIycyBq"
      },
      "source": [
        "### Ejemplo\n",
        "\n",
        "Extrae los últimos tres meses del año de la lista `lista_meses` y almacénalos en una nueva lista llamada `cuarto_trimestre`."
      ]
    },
    {
      "cell_type": "code",
      "execution_count": null,
      "metadata": {
        "deletable": false,
        "editable": false,
        "nbgrader": {
          "cell_type": "code",
          "checksum": "0b9f067ad44f65828182eb79285ac69c",
          "grade": false,
          "grade_id": "eje-sol",
          "locked": true,
          "schema_version": 3,
          "solution": false,
          "task": false
        },
        "id": "MfyjCC7WcyBq"
      },
      "outputs": [],
      "source": [
        "# Implementa tu respuesta en esta celda\n",
        "\n",
        "cuarto_trimestre = lista_meses[-3:]\n",
        "cuarto_trimestre"
      ]
    },
    {
      "cell_type": "markdown",
      "metadata": {
        "deletable": false,
        "editable": false,
        "nbgrader": {
          "cell_type": "markdown",
          "checksum": "1455c5ff8690b94f86dc795234d215a9",
          "grade": false,
          "grade_id": "ej1-enun",
          "locked": true,
          "schema_version": 3,
          "solution": false,
          "task": false
        },
        "id": "1k-lj8S0cyBq"
      },
      "source": [
        "## El proyecto inmobiliario\n",
        "\n",
        "El gerente de un proyecto inmobiliario registró en la siguiente tabla el número de casas vendidas en los últimos seis meses:\n",
        "\n",
        "|Mes|Ventas|\n",
        "|:-------:|:-----------:|\n",
        "|1| 20|\n",
        "|2| 21|\n",
        "|3| 22|\n",
        "|4| 20|\n",
        "|5| 21|\n",
        "|6| 27|\n",
        "\n",
        "*Resuelve los ejercicios del 1 al 3 con base en este enunciado.*"
      ]
    },
    {
      "cell_type": "markdown",
      "metadata": {
        "deletable": false,
        "editable": false,
        "nbgrader": {
          "cell_type": "markdown",
          "checksum": "c8368024391f7c207ccb885b6302eb9d",
          "grade": false,
          "grade_id": "ej1-task",
          "locked": true,
          "schema_version": 3,
          "solution": false,
          "task": false
        },
        "id": "i3ZtZ_RkcyBq"
      },
      "source": [
        "### Ejercicio 1\n",
        "\n",
        "Declara una lista llamada `lista_ventas` en la que se almacene la información de la columna ventas."
      ]
    },
    {
      "cell_type": "code",
      "execution_count": 8,
      "metadata": {
        "deletable": false,
        "nbgrader": {
          "cell_type": "code",
          "checksum": "18f7c3426a800c42631fab7a78383292",
          "grade": false,
          "grade_id": "ej1-sol",
          "locked": false,
          "schema_version": 3,
          "solution": true,
          "task": false
        },
        "nombre": "Ej1",
        "id": "Bfxh4tZlcyBq"
      },
      "outputs": [],
      "source": [
        "# your code here\n",
        "lista_ventas = [20,21,22,20,21,27]\n"
      ]
    },
    {
      "cell_type": "code",
      "execution_count": 7,
      "metadata": {
        "deletable": false,
        "editable": false,
        "nbgrader": {
          "cell_type": "code",
          "checksum": "f4ab37f2988a495cd6efb18b46417246",
          "grade": true,
          "grade_id": "ej1-test",
          "locked": true,
          "points": 1,
          "schema_version": 3,
          "solution": false,
          "task": false
        },
        "colab": {
          "base_uri": "https://localhost:8080/"
        },
        "id": "5U6estwpcyBr",
        "outputId": "4e9a659e-44cb-494b-a573-30db47c47fe7"
      },
      "outputs": [
        {
          "output_type": "stream",
          "name": "stdout",
          "text": [
            "Felicidades, realizaste este ejercicio correctamente.\n"
          ]
        }
      ],
      "source": [
        "## PRUEBAS\n",
        "\n",
        "# Caso 1: no existe la lista.\n",
        "try:\n",
        "    lista_ventas\n",
        "except:\n",
        "    raise NotImplementedError(\"No declaraste una variable llamada lista_ventas.\",)\n",
        "\n",
        "# Caso 2: el código se ejecuta con errores\n",
        "try:\n",
        "    exec(_i)\n",
        "except:\n",
        "    raise RuntimeError(\"Tu código produce un error al ejecutarse.\")\n",
        "\n",
        "# Caso 3: no es una lista.\n",
        "assert type(lista_ventas) == list, f\"Tu variable lista_ventas no es de tipo {list.__name__}.\"\n",
        "\n",
        "# Caso 4: la lista contiene valores de tipo incorrecto\n",
        "for i in lista_ventas:\n",
        "    assert type(i) == int, f\"Tu lista contiene valores que no son de tipo {int.__name__}.\"\n",
        "\n",
        "# Caso 5: la lista no contiene todos los valores correctos\n",
        "try:\n",
        "    assert lista_ventas.count(20) >= 2\n",
        "    assert lista_ventas.count(21) >= 2\n",
        "    assert lista_ventas.count(22) >= 1\n",
        "    assert lista_ventas.count(27) >= 1\n",
        "except AssertionError as e:\n",
        "    e.args += (\"Tu lista no contiene toda la información de la tabla.\",)\n",
        "    raise e\n",
        "\n",
        "# Caso 6: la lista contiene valores que no existen en la columna\n",
        "assert len(set(lista_ventas)) == 4, \"Tu lista contiene valores incorrectos.\"\n",
        "\n",
        "# Caso 7: la lista tiene el tamaño incorrecto\n",
        "assert len(lista_ventas) == 6, \"Tu lista tiene un tamaño mayor al esperado.\"\n",
        "\n",
        "# Caso 8: la lista es correcta\n",
        "try:\n",
        "    assert lista_ventas[0] == 20\n",
        "    assert lista_ventas[1] == 21\n",
        "    assert lista_ventas[2] == 22\n",
        "    assert lista_ventas[3] == 20\n",
        "    assert lista_ventas[4] == 21\n",
        "    assert lista_ventas[5] == 27\n",
        "except AssertionError as e:\n",
        "    e.args += (\"Los valores de tu lista están desordenados.\",)\n",
        "    raise e\n",
        "\n",
        "# Mensaje de felicitaciones\n",
        "print(\"Felicidades, realizaste este ejercicio correctamente.\")"
      ]
    },
    {
      "cell_type": "markdown",
      "metadata": {
        "deletable": false,
        "editable": false,
        "nbgrader": {
          "cell_type": "markdown",
          "checksum": "1eb8e2c22335c3beb919f4a23827545a",
          "grade": false,
          "grade_id": "ej2-enun",
          "locked": true,
          "schema_version": 3,
          "solution": false,
          "task": false
        },
        "id": "W8Xn32O9cyBr"
      },
      "source": [
        "### Ejercicio 2\n",
        "\n",
        "De manera inesperada, a algunos de los compradores del mes `mes_a_actualizar` le negaron el crédito. Teniendo en cuenta lo anterior, el número de casas vendidas de ese mes ha sido actualizado y está almacenado en la variable `ventas_mes_a_actualizar`. Utiliza estas variables en tu código."
      ]
    },
    {
      "cell_type": "code",
      "execution_count": 9,
      "metadata": {
        "deletable": false,
        "editable": false,
        "nbgrader": {
          "cell_type": "code",
          "checksum": "e6ee4d64ad959b05a93196cfb7af843f",
          "grade": false,
          "grade_id": "ej2-data",
          "locked": true,
          "schema_version": 3,
          "solution": false,
          "task": false
        },
        "id": "uhB6wLqScyBr"
      },
      "outputs": [],
      "source": [
        "# No modifiques esta celda\n",
        "\n",
        "mes_a_actualizar = 4\n",
        "ventas_mes_a_actualizar = 18"
      ]
    },
    {
      "cell_type": "markdown",
      "metadata": {
        "deletable": false,
        "editable": false,
        "nbgrader": {
          "cell_type": "markdown",
          "checksum": "f607d664e15a4211d8f84a6d990fe613",
          "grade": false,
          "grade_id": "ej2-task",
          "locked": true,
          "schema_version": 3,
          "solution": false,
          "task": false
        },
        "id": "Vxwx3VyecyBr"
      },
      "source": [
        "Modifica la lista de ventas `lista_ventas` para actualizar ese valor."
      ]
    },
    {
      "cell_type": "code",
      "execution_count": 10,
      "metadata": {
        "deletable": false,
        "nbgrader": {
          "cell_type": "code",
          "checksum": "10353e780cf9b15c94f91380430ca7a8",
          "grade": false,
          "grade_id": "ej2-sol",
          "locked": false,
          "schema_version": 3,
          "solution": true,
          "task": false
        },
        "nombre": "Ej2",
        "id": "WdGW0jHDcyBr"
      },
      "outputs": [],
      "source": [
        "# your code here\n",
        "lista_ventas[mes_a_actualizar - 1] = ventas_mes_a_actualizar"
      ]
    },
    {
      "cell_type": "code",
      "execution_count": 11,
      "metadata": {
        "deletable": false,
        "editable": false,
        "nbgrader": {
          "cell_type": "code",
          "checksum": "b6ca9c1b88478b5b57b953f449883d29",
          "grade": true,
          "grade_id": "ej2-test",
          "locked": true,
          "points": 1,
          "schema_version": 3,
          "solution": false,
          "task": false
        },
        "id": "kudLLksmcyBs",
        "colab": {
          "base_uri": "https://localhost:8080/"
        },
        "outputId": "e745df30-6e29-4f5c-b275-ce17fe62135b"
      },
      "outputs": [
        {
          "output_type": "stream",
          "name": "stdout",
          "text": [
            "Felicidades, realizaste este ejercicio correctamente.\n"
          ]
        }
      ],
      "source": [
        "## PRUEBAS\n",
        "\n",
        "# Base variables\n",
        "lista_ventas = [20, 21, 22, 20, 21, 27]\n",
        "mes_a_actualizar = 3\n",
        "ventas_mes_a_actualizar = 17\n",
        "\n",
        "try:\n",
        "    # Caso 1: no existe la lista.\n",
        "    try:\n",
        "        lista_ventas\n",
        "    except:\n",
        "        raise NotImplementedError(\"No existe una variable llamada lista_ventas.\",)\n",
        "\n",
        "    # Caso 2: el código se ejecuta con errores\n",
        "    try:\n",
        "        exec(_i)\n",
        "    except:\n",
        "        raise RuntimeError(\"Tu código produce un error al ejecutarse.\")\n",
        "\n",
        "    # Caso 3: el código modifica los parametros del problema\n",
        "    try:\n",
        "        assert mes_a_actualizar == 3\n",
        "        assert ventas_mes_a_actualizar == 17\n",
        "    except:\n",
        "        raise AssertionError(\"Tu código no debe modificar los datos del problema.\")\n",
        "\n",
        "    # Caso 4: no es una lista.\n",
        "    assert type(lista_ventas) == list, f\"Tu variable lista_ventas no es de tipo {list.__name__}.\"\n",
        "\n",
        "    # Caso 5: el código no utiliza las variables mes_a_actualizar y ventas_mes_a_actualizar\n",
        "    assert _i.find(\"mes_a_actualizar\") >= 0, \"Tu código no utiliza la variable mes_a_actualizar.\"\n",
        "    assert _i.find(\"ventas_mes_a_actualizar\") >= 0, \"Tu código no utiliza la variable ventas_mes_a_actualizar.\"\n",
        "\n",
        "    # Caso 6: la lista contiene valores de tipo incorrecto\n",
        "    for i in lista_ventas:\n",
        "        assert type(i) == int, f\"Tu lista contiene valores que no son de tipo {int.__name__}.\"\n",
        "\n",
        "    # Caso 7: la lista tiene el tamaño incorrecto\n",
        "    assert len(lista_ventas) == 6, \"Tu lista no tiene el tamaño correcto.\"\n",
        "\n",
        "    # Caso 8: la lista es correcta\n",
        "    try:\n",
        "        assert lista_ventas[0] == 20\n",
        "        assert lista_ventas[1] == 21\n",
        "        assert lista_ventas[mes_a_actualizar - 1] == ventas_mes_a_actualizar\n",
        "        assert lista_ventas[3] == 20\n",
        "        assert lista_ventas[4] == 21\n",
        "        assert lista_ventas[5] == 27\n",
        "    except AssertionError as e:\n",
        "        e.args += (\"Tu respuesta es incorrecta. Es posible que no hayas modificado la posición correcta.\",)\n",
        "        raise e\n",
        "\n",
        "except:\n",
        "    # Restaurar variables base originales\n",
        "    mes_a_actualizar = 4\n",
        "    ventas_mes_a_actualizar = 18\n",
        "    raise\n",
        "\n",
        "finally:\n",
        "    # Restaurar variables base originales y respuesta estudiante\n",
        "    mes_a_actualizar = 4\n",
        "    ventas_mes_a_actualizar = 18\n",
        "    lista_ventas = [20, 21, 22, 20, 21, 27]\n",
        "    exec(_i)\n",
        "\n",
        "# Mensaje de felicitaciones\n",
        "print(\"Felicidades, realizaste este ejercicio correctamente.\")"
      ]
    },
    {
      "cell_type": "markdown",
      "metadata": {
        "deletable": false,
        "editable": false,
        "nbgrader": {
          "cell_type": "markdown",
          "checksum": "8ff1983f0d53b2a8bd313c93ed8df934",
          "grade": false,
          "grade_id": "ej3-task",
          "locked": true,
          "schema_version": 3,
          "solution": false,
          "task": false
        },
        "id": "nPAxX7WhcyBs"
      },
      "source": [
        "### Ejercicio 3\n",
        "\n",
        "El gerente del proyecto solicitó que se le reporten los `n` mayores niveles de ventas mensuales de casas, ordenados de mayor a menor. La variable en la que guardes el resultado debe tener el nombre `mejores_ventas`. Haz uso de la lista `lista_ventas`.\n",
        "\n",
        "**Pista:** el método `sort` recibe un parámetro llamado `reverse`."
      ]
    },
    {
      "cell_type": "code",
      "execution_count": 12,
      "metadata": {
        "deletable": false,
        "editable": false,
        "nbgrader": {
          "cell_type": "code",
          "checksum": "dfa3ffe5b315849342cca2020b98e0d2",
          "grade": false,
          "grade_id": "ej3-data",
          "locked": true,
          "schema_version": 3,
          "solution": false,
          "task": false
        },
        "id": "inAs0opzcyBs"
      },
      "outputs": [],
      "source": [
        "# No modifiques esta celda\n",
        "\n",
        "n = 3"
      ]
    },
    {
      "cell_type": "code",
      "execution_count": 13,
      "metadata": {
        "deletable": false,
        "nbgrader": {
          "cell_type": "code",
          "checksum": "b08e8696791b2f86632f759a2a601052",
          "grade": false,
          "grade_id": "ej3-sol",
          "locked": false,
          "schema_version": 3,
          "solution": true,
          "task": false
        },
        "nombre": "Ej3",
        "id": "BmlFX8_0cyBs"
      },
      "outputs": [],
      "source": [
        "# your code here\n",
        "mejores_ventas = sorted(lista_ventas, reverse=True)[:n]"
      ]
    },
    {
      "cell_type": "code",
      "execution_count": 14,
      "metadata": {
        "deletable": false,
        "editable": false,
        "nbgrader": {
          "cell_type": "code",
          "checksum": "a4f023ec0b6f8f1606352c3c025cdb34",
          "grade": true,
          "grade_id": "ej3-test",
          "locked": true,
          "points": 1,
          "schema_version": 3,
          "solution": false,
          "task": false
        },
        "id": "eFEY_Nl-cyBs",
        "colab": {
          "base_uri": "https://localhost:8080/"
        },
        "outputId": "14279c3f-2dd5-4972-d652-63b6c4d54f20"
      },
      "outputs": [
        {
          "output_type": "stream",
          "name": "stdout",
          "text": [
            "Felicidades, realizaste este ejercicio correctamente.\n"
          ]
        }
      ],
      "source": [
        "## PRUEBAS\n",
        "\n",
        "# Base variables\n",
        "n = 4\n",
        "\n",
        "try:\n",
        "    # Caso 1: no existe la lista.\n",
        "    try:\n",
        "        mejores_ventas\n",
        "    except:\n",
        "        raise NotImplementedError(\"No declaraste una variable llamada mejores_ventas.\",)\n",
        "\n",
        "    # Caso 2: el código se ejecuta con errores\n",
        "    try:\n",
        "        exec(_i)\n",
        "    except:\n",
        "        raise RuntimeError(\"Tu código produce un error al ejecutarse.\")\n",
        "\n",
        "    # Caso 3: el código modifica los parametros del problema\n",
        "    try:\n",
        "        assert n == 4\n",
        "    except:\n",
        "        raise AssertionError(\"Tu código no debe modificar los datos del problema.\")\n",
        "\n",
        "    # Caso 4: no es una lista.\n",
        "    assert type(mejores_ventas) == list, f\"Tu variable mejores_ventas no es de tipo {list.__name__}.\"\n",
        "\n",
        "    # Caso 5: el código no utiliza las variables mes_a_actualizar y ventas_mes_a_actualizar\n",
        "    assert _i.find(\"lista_ventas\") >= 0, \"Tu código no utiliza la variable lista_ventas.\"\n",
        "    assert _i.find(\"n\") >= 0, \"Tu código no utiliza la variable n.\"\n",
        "\n",
        "    # Caso 6: la lista contiene valores de tipo incorrecto\n",
        "    for i in mejores_ventas:\n",
        "        assert type(i) == int, f\"Tu lista contiene valores que no son de tipo {int.__name__}.\"\n",
        "\n",
        "    # Caso 7: la lista tiene el tamaño incorrecto\n",
        "    assert len(mejores_ventas) == n, \"Tu lista no tiene el tamaño correcto.\"\n",
        "\n",
        "    # Caso 8: la lista no contiene los valores correctos\n",
        "    try:\n",
        "        assert mejores_ventas.count(22) >= 1\n",
        "        assert mejores_ventas.count(21) >= 2\n",
        "        assert mejores_ventas.count(27) >= 1\n",
        "    except AssertionError as e:\n",
        "        e.args += (\"Tu lista no contiene los valores correctos.\",)\n",
        "        raise e\n",
        "\n",
        "    # Caso 9: la lista es correcta\n",
        "    try:\n",
        "        assert mejores_ventas[0] >= mejores_ventas[1]\n",
        "        assert mejores_ventas[1] >= mejores_ventas[2]\n",
        "        assert mejores_ventas[2] >= mejores_ventas[3]\n",
        "    except AssertionError as e:\n",
        "        e.args += (\"Tu lista no esta en orden descendente.\",)\n",
        "        raise e\n",
        "\n",
        "    # Caso 10: la lista no esta ordenada\n",
        "    try:\n",
        "        assert mejores_ventas[0] == 27\n",
        "        assert mejores_ventas[1] == 22\n",
        "        assert mejores_ventas[2] == 21\n",
        "        assert mejores_ventas[3] == 21\n",
        "    except AssertionError as e:\n",
        "        e.args += (\"Tu respuesta es incorrecta.\",)\n",
        "        raise e\n",
        "\n",
        "except:\n",
        "    # Restaurar variables base originales\n",
        "    n = 3\n",
        "    raise\n",
        "\n",
        "finally:\n",
        "    # Restaurar variables base originales\n",
        "    n = 3\n",
        "\n",
        "# Mensaje de felicitaciones\n",
        "print(\"Felicidades, realizaste este ejercicio correctamente.\")"
      ]
    },
    {
      "cell_type": "markdown",
      "metadata": {
        "deletable": false,
        "editable": false,
        "nbgrader": {
          "cell_type": "markdown",
          "checksum": "140c7378af7c0fe95912651e31cb9129",
          "grade": false,
          "grade_id": "ej4-enun",
          "locked": true,
          "schema_version": 3,
          "solution": false,
          "task": false
        },
        "id": "ivkE0afKcyBt"
      },
      "source": [
        "## La compañía de encuestas\n",
        "\n",
        "Una compañía de encuestas requiere hacer llamadas telefónicas a un grupo de personas y solo cuenta con dos operarios. Un operario debe llamar a la primera mitad de las personas (ordenándolas alfabéticamente), mientras que el otro llamará a la segunda mitad. La variable `nombres` almacena una lista con los nombres de las personas a llamar."
      ]
    },
    {
      "cell_type": "code",
      "execution_count": 17,
      "metadata": {
        "deletable": false,
        "editable": false,
        "nbgrader": {
          "cell_type": "code",
          "checksum": "ce63cff278cab8add21673115e438a87",
          "grade": false,
          "grade_id": "ej4-data",
          "locked": true,
          "schema_version": 3,
          "solution": false,
          "task": false
        },
        "id": "aY4lhaUrcyBt"
      },
      "outputs": [],
      "source": [
        "# No modifiques esta celda\n",
        "\n",
        "nombres = [\"Sara\", \"Juan\", \"Alberto\", \"Ana\", \"Enrique\", \"Lola\"]"
      ]
    },
    {
      "cell_type": "markdown",
      "metadata": {
        "deletable": false,
        "editable": false,
        "nbgrader": {
          "cell_type": "markdown",
          "checksum": "0f7f2a6feb6659d6f34a7b2c30c8bba3",
          "grade": false,
          "grade_id": "ej4-task",
          "locked": true,
          "schema_version": 3,
          "solution": false,
          "task": false
        },
        "id": "YYaxGD8YcyBt"
      },
      "source": [
        "### Ejercicio 4\n",
        "\n",
        "Haciendo uso de la lista `nombres` y otras posibles listas auxiliares que necesites, debes crear las siguientes dos listas:\n",
        "\n",
        "* La primera debe llamarse `primera_mitad` y contener la primera mitad de las personas en orden alfábetico. En caso de haber un número impar de personas, por ejemplo 5, en esta primera lista se incluyen las primeras tres personas.\n",
        "* La segunda debe llamarse `segunda_mitad` y contener la segunda mitad de personas, según el orden alfabético.\n",
        "\n",
        "**Pista:** para aproximar números decimales a enteros, el paquete `math` incluye las funciones `ceil` (aproxima al entero superior) y `floor` (aproxima al entero inferior)."
      ]
    },
    {
      "cell_type": "code",
      "execution_count": 21,
      "metadata": {
        "deletable": false,
        "nbgrader": {
          "cell_type": "code",
          "checksum": "ea3894dd9bfa35bc3e7b118e70d6731b",
          "grade": false,
          "grade_id": "ej4-sol",
          "locked": false,
          "schema_version": 3,
          "solution": true,
          "task": false
        },
        "nombre": "Ej4",
        "id": "ePQ1ehAxcyBt"
      },
      "outputs": [],
      "source": [
        "# your code here\n",
        "import math\n",
        "\n",
        "nombres_ordenados = sorted(nombres)\n",
        "\n",
        "mitad = math.ceil(len(nombres_ordenados) / 2)\n",
        "\n",
        "primera_mitad = nombres_ordenados[:mitad]\n",
        "segunda_mitad = nombres_ordenados[mitad:]\n"
      ]
    },
    {
      "cell_type": "code",
      "execution_count": 22,
      "metadata": {
        "deletable": false,
        "editable": false,
        "nbgrader": {
          "cell_type": "code",
          "checksum": "d7dbddf7a560afe7cbd8ab39f8612cee",
          "grade": true,
          "grade_id": "ej4-test",
          "locked": true,
          "points": 1,
          "schema_version": 3,
          "solution": false,
          "task": false
        },
        "id": "g4e5baBFcyBt",
        "colab": {
          "base_uri": "https://localhost:8080/"
        },
        "outputId": "14883601-4485-4bb2-f2b4-cabaf37607dd"
      },
      "outputs": [
        {
          "output_type": "stream",
          "name": "stdout",
          "text": [
            "Felicidades, realizaste este ejercicio correctamente.\n"
          ]
        }
      ],
      "source": [
        "## PRUEBAS\n",
        "\n",
        "# Base variables\n",
        "nombres = [\"Andrea\", \"Felipe\", \"Emilio\", \"Carolina\", \"Gabriel\", \"Susana\", \"Antonia\"]\n",
        "\n",
        "try:\n",
        "    # Caso 1: no se declaro la lista\n",
        "    # primera_mitad\n",
        "    try:\n",
        "        primera_mitad\n",
        "    except:\n",
        "        raise NotImplementedError(\"No declaraste una variable llamada primera_mitad.\",)\n",
        "\n",
        "    # segunda_mitad\n",
        "    try:\n",
        "        segunda_mitad\n",
        "    except:\n",
        "        raise NotImplementedError(\"No declaraste una variable llamada segunda_mitad.\",)\n",
        "\n",
        "    # Caso 2: el código se ejecuta con errores\n",
        "    try:\n",
        "        exec(_i)\n",
        "    except:\n",
        "        raise RuntimeError(\"Tu código produce un error al ejecutarse.\")\n",
        "\n",
        "    # Caso 3: el código modifica los parametros del problema\n",
        "    try:\n",
        "        assert nombres == [\"Andrea\", \"Felipe\", \"Emilio\", \"Carolina\", \"Gabriel\", \"Susana\", \"Antonia\"]\n",
        "    except:\n",
        "        raise AssertionError(\"Tu código no debe modificar los datos del problema.\")\n",
        "\n",
        "    # Caso 4: no es una lista.\n",
        "    # primera_mitad\n",
        "    assert type(primera_mitad) == list, f\"Tu variable primera_mitad no es de tipo {list.__name__}.\"\n",
        "\n",
        "    # segunda_mitad\n",
        "    assert type(segunda_mitad) == list, f\"Tu variable segunda_mitad no es de tipo {list.__name__}.\"\n",
        "\n",
        "    # Caso 5: el código no utiliza la lista nombres\n",
        "    assert _i.find(\"nombres\") >= 0, \"Tu código no utiliza la lista nombres.\"\n",
        "\n",
        "    # Caso 6: la lista contiene valores de tipo incorrecto\n",
        "    # primera_mitad\n",
        "    for i in primera_mitad:\n",
        "        assert type(i) == str, f\"Tu lista primera_mitad contiene valores que no son de tipo {str.__name__}.\"\n",
        "\n",
        "    # segunda_mitad\n",
        "    for i in segunda_mitad:\n",
        "        assert type(i) == str, f\"Tu lista segunda_mitad contiene valores que no son de tipo {str.__name__}.\"\n",
        "\n",
        "    # Caso 7: las listas tienen el tamaño incorrecto\n",
        "    # primera_mitad\n",
        "    assert len(primera_mitad) == 4, \"Tu lista primera_mitad no tiene el tamaño correcto.\"\n",
        "\n",
        "    # segunda_mitad\n",
        "    assert len(segunda_mitad) == 3, \"Tu lista segunda_mitad no tiene el tamaño correcto.\"\n",
        "\n",
        "    # Caso 8: la lista no contiene los valores correctos\n",
        "    # primera_mitad\n",
        "    try:\n",
        "        assert primera_mitad.count(\"Andrea\") >= 1\n",
        "        assert primera_mitad.count(\"Antonia\") >= 1\n",
        "        assert primera_mitad.count(\"Carolina\") >= 1\n",
        "        assert primera_mitad.count(\"Emilio\") >= 1\n",
        "    except AssertionError as e:\n",
        "        e.args += (\"Tu lista primera_mitad no contiene los valores correctos.\",)\n",
        "        raise e\n",
        "\n",
        "    # segunda_mitad\n",
        "    try:\n",
        "        assert segunda_mitad.count(\"Felipe\") >= 1\n",
        "        assert segunda_mitad.count(\"Gabriel\") >= 1\n",
        "        assert segunda_mitad.count(\"Susana\") >= 1\n",
        "    except AssertionError as e:\n",
        "        e.args += (\"Tu lista segunda_mitad no contiene los valores correctos.\",)\n",
        "        raise e\n",
        "\n",
        "    # Caso 9: las listas son correctas\n",
        "    # primera_mitad\n",
        "    try:\n",
        "        assert primera_mitad[0] == \"Andrea\"\n",
        "        assert primera_mitad[1] == \"Antonia\"\n",
        "        assert primera_mitad[2] == \"Carolina\"\n",
        "        assert primera_mitad[3] == \"Emilio\"\n",
        "    except AssertionError as e:\n",
        "        e.args += (\"Tu respuesta es incorrecta. Es posible que tu lista primera_mitad no este ordenada alfabéticamente.\",)\n",
        "        raise e\n",
        "\n",
        "    # segunda_mitad\n",
        "    try:\n",
        "        assert segunda_mitad[0] == \"Felipe\"\n",
        "        assert segunda_mitad[1] == \"Gabriel\"\n",
        "        assert segunda_mitad[2] == \"Susana\"\n",
        "    except AssertionError as e:\n",
        "        e.args += (\"Tu respuesta es incorrecta. Es posible que tu lista segunda_mitad no este ordenada alfabéticamente.\",)\n",
        "        raise e\n",
        "\n",
        "except:\n",
        "    # Restaurar variables base originales\n",
        "    nombres = [\"Sara\", \"Juan\", \"Alberto\", \"Ana\", \"Enrique\", \"Lola\"]\n",
        "    raise\n",
        "\n",
        "finally:\n",
        "    # Restaurar variables base originales\n",
        "    nombres = [\"Sara\", \"Juan\", \"Alberto\", \"Ana\", \"Enrique\", \"Lola\"]\n",
        "\n",
        "# Mensaje de felicitaciones\n",
        "print(\"Felicidades, realizaste este ejercicio correctamente.\")"
      ]
    },
    {
      "cell_type": "markdown",
      "metadata": {
        "deletable": false,
        "editable": false,
        "nbgrader": {
          "cell_type": "markdown",
          "checksum": "9c3b20653266373f4879cfdfe098d5c7",
          "grade": false,
          "grade_id": "ej5-enun",
          "locked": true,
          "schema_version": 3,
          "solution": false,
          "task": false
        },
        "id": "ZxtVBxRScyBu"
      },
      "source": [
        "## Las letras del abecedario\n",
        "\n",
        "A continuación encontrarás declarada una lista que contiene listas anidadas con las letras del alfabeto.\n",
        "\n",
        "*Resuelve los ejercicios del 5 al 8 con base en este enunciado.*"
      ]
    },
    {
      "cell_type": "code",
      "execution_count": 23,
      "metadata": {
        "deletable": false,
        "editable": false,
        "nbgrader": {
          "cell_type": "code",
          "checksum": "d65a40ffbc51a7b5f0e6bc62187d3856",
          "grade": false,
          "grade_id": "ej5-data",
          "locked": true,
          "schema_version": 3,
          "solution": false,
          "task": false
        },
        "id": "6BP5hH6mcyBu"
      },
      "outputs": [],
      "source": [
        "# No modifiques esta celda\n",
        "\n",
        "lista_abecedario = [\"a\", \"b\", \"c\", [\"d\", \"e\", [\"f\", \"g\"]]]"
      ]
    },
    {
      "cell_type": "markdown",
      "metadata": {
        "deletable": false,
        "editable": false,
        "nbgrader": {
          "cell_type": "markdown",
          "checksum": "0bc83a188e7d1ffc2a1a8ce67babe3a3",
          "grade": false,
          "grade_id": "ej5-task",
          "locked": true,
          "schema_version": 3,
          "solution": false,
          "task": false
        },
        "id": "IUoPPr1-cyBu"
      },
      "source": [
        "### Ejercicio 5\n",
        "\n",
        "Haciendo uso de la lista `lista_abecedario`, obtén las primeras tres letras del abecedario y almacénalas en una lista con nombre `lista_abc`."
      ]
    },
    {
      "cell_type": "code",
      "execution_count": 24,
      "metadata": {
        "deletable": false,
        "nbgrader": {
          "cell_type": "code",
          "checksum": "3b0f8e6e36fbaec3299ccf911aa2d45e",
          "grade": false,
          "grade_id": "ej5-sol",
          "locked": false,
          "schema_version": 3,
          "solution": true,
          "task": false
        },
        "nombre": "Ej5",
        "id": "z3paaXuvcyBv"
      },
      "outputs": [],
      "source": [
        "# your code here\n",
        "lista_abc = lista_abecedario[:3]"
      ]
    },
    {
      "cell_type": "code",
      "execution_count": 25,
      "metadata": {
        "deletable": false,
        "editable": false,
        "nbgrader": {
          "cell_type": "code",
          "checksum": "276bcec1aa819b5de905e48b8ab4ab76",
          "grade": true,
          "grade_id": "ej5-test",
          "locked": true,
          "points": 1,
          "schema_version": 3,
          "solution": false,
          "task": false
        },
        "id": "Tw1JGDsMcyBv",
        "colab": {
          "base_uri": "https://localhost:8080/"
        },
        "outputId": "c1073197-ccf4-4bfc-a03f-a1834e813865"
      },
      "outputs": [
        {
          "output_type": "stream",
          "name": "stdout",
          "text": [
            "Felicidades, realizaste este ejercicio correctamente.\n"
          ]
        }
      ],
      "source": [
        "## PRUEBAS\n",
        "\n",
        "# Caso 1: no existe la lista.\n",
        "try:\n",
        "    lista_abc\n",
        "except:\n",
        "    raise NotImplementedError(\"No declaraste una variable llamada lista_abc.\",)\n",
        "\n",
        "# Caso 2: el código se ejecuta con errores\n",
        "try:\n",
        "    exec(_i)\n",
        "except:\n",
        "    raise RuntimeError(\"Tu código produce un error al ejecutarse.\")\n",
        "\n",
        "# Caso 3: no es una lista.\n",
        "assert type(lista_abc) == list, f\"Tu variable lista_abc no es de tipo {list.__name__}.\"\n",
        "\n",
        "# Caso 4: el código no utiliza la lista lista_abecedario\n",
        "assert _i.find(\"lista_abecedario\") >= 0, \"Tu código no utiliza la lista lista_abecedario.\"\n",
        "\n",
        "# Caso 5: la lista contiene valores de tipo incorrecto\n",
        "for i in lista_abc:\n",
        "    assert type(i) == str, f\"Tu lista contiene valores que no son de tipo {str.__name__}.\"\n",
        "\n",
        "# Caso 6: la lista no contiene los valores esperados\n",
        "try:\n",
        "    assert lista_abc.count('a') >= 1\n",
        "    assert lista_abc.count('b') >= 1\n",
        "    assert lista_abc.count('c') >= 1\n",
        "except AssertionError as e:\n",
        "    e.args += (\"Tu lista no contiene los valores correctos.\",)\n",
        "    raise e\n",
        "\n",
        "# Caso 7: la lista tiene el tamaño incorrecto\n",
        "assert len(lista_abc) == 3, \"Tu lista no tiene el tamaño correcto.\"\n",
        "\n",
        "# Caso 8: la lista es correcta\n",
        "try:\n",
        "    assert lista_abc[0] == 'a'\n",
        "    assert lista_abc[1] == 'b'\n",
        "    assert lista_abc[2] == 'c'\n",
        "except AssertionError as e:\n",
        "    e.args += (\"Los valores de tu lista están desordenados.\",)\n",
        "    raise e\n",
        "\n",
        "# Mensaje de felicitaciones\n",
        "print(\"Felicidades, realizaste este ejercicio correctamente.\")"
      ]
    },
    {
      "cell_type": "markdown",
      "metadata": {
        "deletable": false,
        "editable": false,
        "nbgrader": {
          "cell_type": "markdown",
          "checksum": "957f89ff0713e02a5ced5c6f4c2045f5",
          "grade": false,
          "grade_id": "ej6-task",
          "locked": true,
          "schema_version": 3,
          "solution": false,
          "task": false
        },
        "id": "xRlYtwSZcyBv"
      },
      "source": [
        "### Ejercicio 6\n",
        "\n",
        "Haciendo uso de la lista `lista_abecedario`, obtén una lista con las letras d y e, y almacénala en una lista con nombre `lista_de`."
      ]
    },
    {
      "cell_type": "code",
      "execution_count": 26,
      "metadata": {
        "deletable": false,
        "nbgrader": {
          "cell_type": "code",
          "checksum": "d3b290b73c7cc0af92abfa9002c9c667",
          "grade": false,
          "grade_id": "ej6-sol",
          "locked": false,
          "schema_version": 3,
          "solution": true,
          "task": false
        },
        "nombre": "Ej6",
        "id": "Han1eko3cyBv"
      },
      "outputs": [],
      "source": [
        "# your code here\n",
        "lista_abecedario[3][:2]\n",
        "lista_de = lista_abecedario[3][:2]"
      ]
    },
    {
      "cell_type": "code",
      "execution_count": 27,
      "metadata": {
        "deletable": false,
        "editable": false,
        "nbgrader": {
          "cell_type": "code",
          "checksum": "81de676546e7f74118e2a29bfc9c08ba",
          "grade": true,
          "grade_id": "ej6-test",
          "locked": true,
          "points": 1,
          "schema_version": 3,
          "solution": false,
          "task": false
        },
        "id": "pwbmT0FWcyBv",
        "colab": {
          "base_uri": "https://localhost:8080/"
        },
        "outputId": "9f3970d4-e97a-4667-9380-9a0bfa5eff13"
      },
      "outputs": [
        {
          "output_type": "stream",
          "name": "stdout",
          "text": [
            "Felicidades, realizaste este ejercicio correctamente.\n"
          ]
        }
      ],
      "source": [
        "## PRUEBAS\n",
        "\n",
        "# Caso 1: no existe la lista.\n",
        "try:\n",
        "    lista_de\n",
        "except:\n",
        "    raise NotImplementedError(\"No declaraste una variable llamada lista_de.\",)\n",
        "\n",
        "# Caso 2: el código se ejecuta con errores\n",
        "try:\n",
        "    exec(_i)\n",
        "except:\n",
        "    raise RuntimeError(\"Tu código produce un error al ejecutarse.\")\n",
        "\n",
        "# Caso 3: no es una lista.\n",
        "assert type(lista_de) == list, f\"Tu variable lista_de no es de tipo {list.__name__}.\"\n",
        "\n",
        "# Caso 4: el código no utiliza la lista lista_abecedario\n",
        "assert _i.find(\"lista_abecedario\") >= 0, \"Tu código no utiliza la lista lista_abecedario.\"\n",
        "\n",
        "# Caso 5: la lista contiene valores de tipo incorrecto\n",
        "for i in lista_de:\n",
        "    assert type(i) == str, f\"Tu lista contiene valores que no son de tipo {str.__name__}.\"\n",
        "\n",
        "# Caso 6: la lista no contiene los valores esperados\n",
        "try:\n",
        "    assert lista_de.count('d') >= 1\n",
        "    assert lista_de.count('e') >= 1\n",
        "except AssertionError as e:\n",
        "    e.args += (\"Tu lista no contiene los valores correctos.\",)\n",
        "    raise e\n",
        "\n",
        "# Caso 7: la lista tiene el tamaño incorrecto\n",
        "assert len(lista_de) == 2, \"Tu lista no tiene el tamaño correcto.\"\n",
        "\n",
        "# Caso 8: la lista es correcta\n",
        "try:\n",
        "    assert lista_de[0] == 'd'\n",
        "    assert lista_de[1] == 'e'\n",
        "except AssertionError as e:\n",
        "    e.args += (\"Los valores de tu lista están desordenados.\",)\n",
        "    raise e\n",
        "\n",
        "# Mensaje de felicitaciones\n",
        "print(\"Felicidades, realizaste este ejercicio correctamente.\")"
      ]
    },
    {
      "cell_type": "markdown",
      "metadata": {
        "deletable": false,
        "editable": false,
        "nbgrader": {
          "cell_type": "markdown",
          "checksum": "ecf4c7130e40ebb30754f05901990c15",
          "grade": false,
          "grade_id": "ej7-task",
          "locked": true,
          "schema_version": 3,
          "solution": false,
          "task": false
        },
        "id": "GRCHKKlycyBv"
      },
      "source": [
        "### Ejercicio 7\n",
        "\n",
        "Haciendo uso de la lista `lista_abecedario` y posibles listas auxiliares que necesites, crea una lista con las letras f, g y h, y almacénala en una lista con nombre `lista_fgh`."
      ]
    },
    {
      "cell_type": "code",
      "execution_count": 28,
      "metadata": {
        "deletable": false,
        "nbgrader": {
          "cell_type": "code",
          "checksum": "44c7924d48eb3b2824ea2847be1b2a7a",
          "grade": false,
          "grade_id": "ej7-sol",
          "locked": false,
          "schema_version": 3,
          "solution": true,
          "task": false
        },
        "nombre": "Ej7",
        "id": "PHuDPnNvcyBv"
      },
      "outputs": [],
      "source": [
        "# your code here\n",
        "lista_fgh = lista_abecedario[3][2] + [\"h\"]"
      ]
    },
    {
      "cell_type": "code",
      "execution_count": 29,
      "metadata": {
        "deletable": false,
        "editable": false,
        "nbgrader": {
          "cell_type": "code",
          "checksum": "7ee3b4365e1f861f234635c93badc8ac",
          "grade": true,
          "grade_id": "ej7-test",
          "locked": true,
          "points": 1,
          "schema_version": 3,
          "solution": false,
          "task": false
        },
        "id": "mk4Mx_DRcyBv",
        "colab": {
          "base_uri": "https://localhost:8080/"
        },
        "outputId": "21d60018-9a65-4383-ee03-56f475625c99"
      },
      "outputs": [
        {
          "output_type": "stream",
          "name": "stdout",
          "text": [
            "Felicidades, realizaste este ejercicio correctamente.\n"
          ]
        }
      ],
      "source": [
        "## PRUEBAS\n",
        "\n",
        "# Caso 1: no existe la lista.\n",
        "try:\n",
        "    lista_fgh\n",
        "except:\n",
        "    raise NotImplementedError(\"No declaraste una variable llamada lista_fgh.\",)\n",
        "\n",
        "# Caso 2: el código se ejecuta con errores\n",
        "try:\n",
        "    exec(_i)\n",
        "except:\n",
        "    raise RuntimeError(\"Tu código produce un error al ejecutarse.\")\n",
        "\n",
        "# Caso 3: no es una lista.\n",
        "assert type(lista_fgh) == list, f\"Tu variable lista_fgh no es de tipo {list.__name__}.\"\n",
        "\n",
        "# Caso 4: el código no utiliza la lista lista_abecedario\n",
        "assert _i.find(\"lista_abecedario\") >= 0, \"Tu código no utiliza la lista lista_abecedario.\"\n",
        "\n",
        "# Caso 5: la lista contiene valores de tipo incorrecto\n",
        "for i in lista_fgh:\n",
        "    assert type(i) == str, f\"Tu lista contiene valores que no son de tipo {str.__name__}.\"\n",
        "\n",
        "# Caso 6: la lista no contiene los valores esperados\n",
        "try:\n",
        "    assert lista_fgh.count('f') >= 1\n",
        "    assert lista_fgh.count('g') >= 1\n",
        "    assert lista_fgh.count('h') >= 1\n",
        "except AssertionError as e:\n",
        "    e.args += (\"Tu lista no contiene los valores correctos.\",)\n",
        "    raise e\n",
        "\n",
        "# Caso 7: la lista tiene el tamaño incorrecto\n",
        "assert len(lista_fgh) == 3, \"Tu lista no tiene el tamaño correcto.\"\n",
        "\n",
        "# Caso 8: la lista es correcta\n",
        "try:\n",
        "    assert lista_fgh[0] == 'f'\n",
        "    assert lista_fgh[1] == 'g'\n",
        "    assert lista_fgh[2] == 'h'\n",
        "except AssertionError as e:\n",
        "    e.args += (\"Los valores de tu lista estan desordenados.\",)\n",
        "    raise e\n",
        "\n",
        "# Mensaje de felicitaciones\n",
        "print(\"Felicidades, realizaste este ejercicio correctamente.\")"
      ]
    },
    {
      "cell_type": "markdown",
      "metadata": {
        "deletable": false,
        "editable": false,
        "nbgrader": {
          "cell_type": "markdown",
          "checksum": "f1be1ad9651762fd169ba7c7b91aef72",
          "grade": false,
          "grade_id": "ej8-task",
          "locked": true,
          "schema_version": 3,
          "solution": false,
          "task": false
        },
        "id": "kcwq4FAKcyBw"
      },
      "source": [
        "### Ejercicio 8\n",
        "\n",
        "Haciendo uso de las listas anteriormente creadas y posibles listas auxiliares que necesites, genera una lista que contenga las primeras diez letras del abecedario y llámala `lista_a_j`."
      ]
    },
    {
      "cell_type": "code",
      "execution_count": 30,
      "metadata": {
        "deletable": false,
        "nbgrader": {
          "cell_type": "code",
          "checksum": "8ff0de965ae8291f9a9aad3836810a1f",
          "grade": false,
          "grade_id": "ej8-sol",
          "locked": false,
          "schema_version": 3,
          "solution": true,
          "task": false
        },
        "nombre": "Ej8",
        "id": "pDFN8N2jcyBw"
      },
      "outputs": [],
      "source": [
        "# your code here\n",
        "lista_a_j =lista_abc + lista_de + lista_fgh + [\"i\", \"j\"]"
      ]
    },
    {
      "cell_type": "code",
      "execution_count": 31,
      "metadata": {
        "deletable": false,
        "editable": false,
        "nbgrader": {
          "cell_type": "code",
          "checksum": "060b5df5d7d065da5dfb38b954cb4506",
          "grade": true,
          "grade_id": "ej8-test",
          "locked": true,
          "points": 1,
          "schema_version": 3,
          "solution": false,
          "task": false
        },
        "id": "Z_ViWaq3cyBw",
        "colab": {
          "base_uri": "https://localhost:8080/"
        },
        "outputId": "02977d46-b263-4bac-f87b-bec2fee60c78"
      },
      "outputs": [
        {
          "output_type": "stream",
          "name": "stdout",
          "text": [
            "Felicidades, realizaste este ejercicio correctamente.\n"
          ]
        }
      ],
      "source": [
        "## PRUEBAS\n",
        "\n",
        "# Caso 1: no existe la lista.\n",
        "try:\n",
        "    lista_a_j\n",
        "except:\n",
        "    raise NotImplementedError(\"No declaraste una variable llamada lista_a_j.\",)\n",
        "\n",
        "# Caso 2: el código se ejecuta con errores\n",
        "try:\n",
        "    exec(_i)\n",
        "except:\n",
        "    raise RuntimeError(\"Tu código produce un error al ejecutarse.\")\n",
        "\n",
        "# Caso 3: no es una lista.\n",
        "assert type(lista_a_j) == list, f\"Tu variable lista_a_j no es de tipo {list.__name__}.\"\n",
        "\n",
        "# Caso 4: el código no utiliza las listas lista_abc, lista_de y lista_fgh\n",
        "assert _i.find(\"lista_abc\") >= 0, \"Tu código no utiliza la lista lista_abc.\"\n",
        "assert _i.find(\"lista_de\") >= 0, \"Tu código no utiliza la lista lista_de.\"\n",
        "assert _i.find(\"lista_fgh\") >= 0, \"Tu código no utiliza la lista lista_fgh.\"\n",
        "\n",
        "# Caso 5: la lista contiene valores de tipo incorrecto\n",
        "for i in lista_a_j:\n",
        "    assert type(i) == str, f\"Tu lista contiene valores que no son de tipo {str.__name__}.\"\n",
        "\n",
        "# Caso 6: la lista no contiene los valores esperados\n",
        "try:\n",
        "    assert lista_a_j.count('a') >= 1\n",
        "    assert lista_a_j.count('b') >= 1\n",
        "    assert lista_a_j.count('c') >= 1\n",
        "    assert lista_a_j.count('d') >= 1\n",
        "    assert lista_a_j.count('e') >= 1\n",
        "    assert lista_a_j.count('f') >= 1\n",
        "    assert lista_a_j.count('g') >= 1\n",
        "    assert lista_a_j.count('h') >= 1\n",
        "    assert lista_a_j.count('i') >= 1\n",
        "    assert lista_a_j.count('j') >= 1\n",
        "except AssertionError as e:\n",
        "    e.args += (\"Tu lista no contiene los valores correctos.\",)\n",
        "    raise e\n",
        "\n",
        "# Caso 7: la lista tiene el tamaño incorrecto\n",
        "assert len(lista_fgh) == 3, \"Tu lista no tiene el tamaño correcto.\"\n",
        "\n",
        "# Caso 8: la lista es correcta\n",
        "try:\n",
        "    assert lista_a_j[0] == 'a'\n",
        "    assert lista_a_j[1] == 'b'\n",
        "    assert lista_a_j[2] == 'c'\n",
        "    assert lista_a_j[3] == 'd'\n",
        "    assert lista_a_j[4] == 'e'\n",
        "    assert lista_a_j[5] == 'f'\n",
        "    assert lista_a_j[6] == 'g'\n",
        "    assert lista_a_j[7] == 'h'\n",
        "    assert lista_a_j[8] == 'i'\n",
        "    assert lista_a_j[9] == 'j'\n",
        "except AssertionError as e:\n",
        "    e.args += (\"Los valores de tu lista estan desordenados.\",)\n",
        "    raise e\n",
        "\n",
        "# Mensaje de felicitaciones\n",
        "print(\"Felicidades, realizaste este ejercicio correctamente.\")"
      ]
    },
    {
      "cell_type": "markdown",
      "metadata": {
        "deletable": false,
        "editable": false,
        "nbgrader": {
          "cell_type": "markdown",
          "checksum": "943289fd7ce6b49e1671ac8094d5a731",
          "grade": false,
          "grade_id": "ej9-enun",
          "locked": true,
          "schema_version": 3,
          "solution": false,
          "task": false
        },
        "id": "5FO54N4qcyBw"
      },
      "source": [
        "## Los números primos\n",
        "\n",
        "Un equipo de ingenieros de sistemas está trabajando con números primos para realizar encriptaciones, en la siguiente celda encuentras los números primos del 1 al 100.\n",
        "\n",
        "*Resuelve los ejercicios 9 y 10 con base en este enunciado.*"
      ]
    },
    {
      "cell_type": "code",
      "execution_count": 35,
      "metadata": {
        "deletable": false,
        "editable": false,
        "nbgrader": {
          "cell_type": "code",
          "checksum": "32398b33f19f9dfdce0b460c96a9e7d3",
          "grade": false,
          "grade_id": "ej910-data",
          "locked": true,
          "schema_version": 3,
          "solution": false,
          "task": false
        },
        "id": "Fb9JqC_EcyB2"
      },
      "outputs": [],
      "source": [
        "# No modifiques esta celda\n",
        "\n",
        "tupla_primos =  (2, 3, 5, 7, 11, 13, 17, 19, 23, 29, 31, 37, 41, 43, 47, 53, 59, 61, 67, 71, 73, 79, 83, 89, 97)"
      ]
    },
    {
      "cell_type": "markdown",
      "metadata": {
        "deletable": false,
        "editable": false,
        "nbgrader": {
          "cell_type": "markdown",
          "checksum": "a45be590376bce123ef4dae9b8e4e5ba",
          "grade": false,
          "grade_id": "ej9-task",
          "locked": true,
          "schema_version": 3,
          "solution": false,
          "task": false
        },
        "id": "rtGRsiMrcyB2"
      },
      "source": [
        "### Ejercicio 9\n",
        "\n",
        "Encuentra cuál índice de la tupla `tupla_primos` le corresponde al número `a_buscar` y almacénalo en una variable llamada `indice`."
      ]
    },
    {
      "cell_type": "code",
      "execution_count": 36,
      "metadata": {
        "deletable": false,
        "editable": false,
        "nbgrader": {
          "cell_type": "code",
          "checksum": "7fc96ba0b07b71ffc92c9a9969d5dfc0",
          "grade": false,
          "grade_id": "ej9-data",
          "locked": true,
          "schema_version": 3,
          "solution": false,
          "task": false
        },
        "id": "pmORy7xdcyB2"
      },
      "outputs": [],
      "source": [
        "# No modifiques esta celda\n",
        "\n",
        "a_buscar = 73"
      ]
    },
    {
      "cell_type": "code",
      "execution_count": 37,
      "metadata": {
        "deletable": false,
        "nbgrader": {
          "cell_type": "code",
          "checksum": "01c92396c44e42c32966da9ee76edccf",
          "grade": false,
          "grade_id": "ej9-sol",
          "locked": false,
          "schema_version": 3,
          "solution": true,
          "task": false
        },
        "nombre": "Ej9",
        "id": "ORZ5cS8-cyB2"
      },
      "outputs": [],
      "source": [
        "# your code here\n",
        "a_buscar = 73\n",
        "indice = tupla_primos.index(a_buscar)"
      ]
    },
    {
      "cell_type": "code",
      "execution_count": 38,
      "metadata": {
        "deletable": false,
        "editable": false,
        "nbgrader": {
          "cell_type": "code",
          "checksum": "1c31e46a1062d3761237b61347dbbc68",
          "grade": true,
          "grade_id": "ej9-test",
          "locked": true,
          "points": 1,
          "schema_version": 3,
          "solution": false,
          "task": false
        },
        "id": "-hUC0WiEcyB3",
        "colab": {
          "base_uri": "https://localhost:8080/"
        },
        "outputId": "100c0955-d930-48ae-9ecb-0f1e3ff2fd86"
      },
      "outputs": [
        {
          "output_type": "stream",
          "name": "stdout",
          "text": [
            "Felicidades, realizaste este ejercicio correctamente.\n"
          ]
        }
      ],
      "source": [
        "## PRUEBAS\n",
        "\n",
        "# Base variables\n",
        "a_buscar = 73\n",
        "\n",
        "try:\n",
        "    # Caso 1: no existe la variable.\n",
        "    try:\n",
        "        indice\n",
        "    except:\n",
        "        raise NotImplementedError(\"No declaraste una variable llamada indice.\",)\n",
        "\n",
        "    # Caso 2: el código se ejecuta con errores\n",
        "    try:\n",
        "        exec(_i)\n",
        "    except:\n",
        "        raise RuntimeError(\"Tu código produce un error al ejecutarse.\")\n",
        "\n",
        "    # Caso 3: el código modifica los parametros del problema\n",
        "    try:\n",
        "        assert a_buscar == 73\n",
        "    except:\n",
        "        raise AssertionError(\"Tu código no debe modificar los datos del problema.\")\n",
        "\n",
        "    # Caso 4: no es de tipo int.\n",
        "    assert type(indice) == int, f\"Tu variable indice no es de tipo {int.__name__}.\"\n",
        "\n",
        "    # Caso 5: el código no utiliza las variables tupla_primos y a_buscar\n",
        "    assert _i.find(\"tupla_primos\") >= 0, \"Tu código no utiliza la variable tupla_primos.\"\n",
        "    assert _i.find(\"a_buscar\") >= 0, \"Tu código no utiliza la variable a_buscar.\"\n",
        "\n",
        "    # Caso 6: la respuesta es correcta\n",
        "    assert indice == 20, \"Tu respuesta es incorrecta.\"\n",
        "\n",
        "except:\n",
        "    # Restaurar variables base originales\n",
        "    a_buscar = 41\n",
        "    raise\n",
        "\n",
        "finally:\n",
        "    # Restaurar variables base originales\n",
        "    a_buscar = 41\n",
        "\n",
        "# Mensaje de felicitaciones\n",
        "print(\"Felicidades, realizaste este ejercicio correctamente.\")"
      ]
    },
    {
      "cell_type": "markdown",
      "metadata": {
        "deletable": false,
        "editable": false,
        "nbgrader": {
          "cell_type": "markdown",
          "checksum": "afaf7ed36eac28b1394fbe10e391768f",
          "grade": false,
          "grade_id": "ej10-task",
          "locked": true,
          "schema_version": 3,
          "solution": false,
          "task": false
        },
        "id": "T4057Di7cyB3"
      },
      "source": [
        "### Ejercicio 10\n",
        "\n",
        "El equipo de ingenieros de sistemas decidió cambiar levemente los números a usar para la encriptación. Ahora, en vez de utilizar todos los números primos del 1 al 100, decidieron elegir un número sí, un número no, dentro de un rango definido por `lim_inferior` y `lim_superior` (incluyéndolos). Por ejemplo, si `lim_inferior` es 5 y `lim_superior` es 31, los números utilizados para la encriptación serían los siguientes: 5,11,17,23,31.\n",
        "\n",
        "Crea una tupla con la secuencia que necesita el equipo y llámala `tupla_secuencia`. Haz uso de la tupla `tupla_primos`.\n",
        "\n",
        "**Pista**: a la instrucción de rebanado se le puede agregar un tercer elemento separándolo con dos puntos, para indicar a cuantos pasos rebanar la estructura de datos ordenada. Ejemplo: `tupla[indice_inicio : indice_fin : pasos]`"
      ]
    },
    {
      "cell_type": "code",
      "execution_count": 41,
      "metadata": {
        "deletable": false,
        "editable": false,
        "nbgrader": {
          "cell_type": "code",
          "checksum": "a0ddccce858b91833aa51964f59375ca",
          "grade": false,
          "grade_id": "ej10-data",
          "locked": true,
          "schema_version": 3,
          "solution": false,
          "task": false
        },
        "id": "ezgAsxqmcyB3"
      },
      "outputs": [],
      "source": [
        "# No modifiques esta celda\n",
        "\n",
        "lim_inferior = 3\n",
        "lim_superior = 53"
      ]
    },
    {
      "cell_type": "code",
      "execution_count": 43,
      "metadata": {
        "deletable": false,
        "nbgrader": {
          "cell_type": "code",
          "checksum": "fb5831d68c1237e6b2c63f0707ed1a9d",
          "grade": false,
          "grade_id": "ej10-sol",
          "locked": false,
          "schema_version": 3,
          "solution": true,
          "task": false
        },
        "nombre": "Ej10",
        "id": "We4ZbJWkcyB3"
      },
      "outputs": [],
      "source": [
        "# your code here\n",
        "tupla_secuencia = tupla_primos[tupla_primos.index(lim_inferior):tupla_primos.index(lim_superior)+1:2]"
      ]
    },
    {
      "cell_type": "code",
      "execution_count": 44,
      "metadata": {
        "deletable": false,
        "editable": false,
        "nbgrader": {
          "cell_type": "code",
          "checksum": "2fb466ae4ad51d62d32c6fe00113de98",
          "grade": true,
          "grade_id": "ej10-test",
          "locked": true,
          "points": 1,
          "schema_version": 3,
          "solution": false,
          "task": false
        },
        "id": "Sau9IsatcyB3",
        "colab": {
          "base_uri": "https://localhost:8080/"
        },
        "outputId": "86a48757-74ba-4f7e-d8ba-b6200068c8f3"
      },
      "outputs": [
        {
          "output_type": "stream",
          "name": "stdout",
          "text": [
            "Felicidades, realizaste este ejercicio correctamente.\n"
          ]
        }
      ],
      "source": [
        "## PRUEBAS\n",
        "\n",
        "# Base variables\n",
        "lim_inferior = 17\n",
        "lim_superior = 47\n",
        "\n",
        "try:\n",
        "    # Caso 1: no existe la tupla.\n",
        "    try:\n",
        "        tupla_secuencia\n",
        "    except:\n",
        "        raise NotImplementedError(\"No declaraste una variable llamada tupla_secuencia.\",)\n",
        "\n",
        "    # Caso 2: el código se ejecuta con errores\n",
        "    try:\n",
        "        exec(_i)\n",
        "    except:\n",
        "        raise RuntimeError(\"Tu código produce un error al ejecutarse.\")\n",
        "\n",
        "    # Caso 3: el código modifica los parametros del problema\n",
        "    try:\n",
        "        assert lim_inferior == 17\n",
        "        assert lim_superior == 47\n",
        "    except:\n",
        "        raise AssertionError(\"Tu código no debe modificar los datos del problema.\")\n",
        "\n",
        "    # Caso 4: no es una tupla.\n",
        "    assert type(tupla_secuencia) == tuple, f\"Tu variable tupla_secuencia no es de tipo {tuple.__name__}.\"\n",
        "\n",
        "    # Caso 5: el código no utiliza las variables tupla_primos, lim_inferior y lim_superior\n",
        "    assert _i.find(\"tupla_primos\") >= 0, \"Tu código no utiliza la variable tupla_primos.\"\n",
        "    assert _i.find(\"lim_inferior\") >= 0, \"Tu código no utiliza la variable lim_inferior.\"\n",
        "    assert _i.find(\"lim_superior\") >= 0, \"Tu código no utiliza la variable lim_superior.\"\n",
        "\n",
        "    # Caso 6: la tupla contiene valores de tipo incorrecto\n",
        "    for i in tupla_secuencia:\n",
        "        assert type(i) == int, f\"Tu tupla contiene valores que no son de tipo {int.__name__}.\"\n",
        "\n",
        "    # Caso 7: la tupla no contiene los limites correctos\n",
        "    assert tupla_secuencia[0] == lim_inferior, \"Tu tupla no inicia en el límite inferior.\"\n",
        "    assert tupla_secuencia[len(tupla_secuencia)-1] == lim_superior, \"Tu tupla no termina en el límite superior.\"\n",
        "\n",
        "    # Caso 8: la tupla tiene el tamaño incorrecto\n",
        "    assert len(tupla_secuencia) == 5, \"Tu tupla no tiene el tamaño correcto.\"\n",
        "\n",
        "    # Caso 9: la tupla es correcta\n",
        "    try:\n",
        "        assert tupla_secuencia[0] == 17\n",
        "        assert tupla_secuencia[1] == 23\n",
        "        assert tupla_secuencia[2] == 31\n",
        "        assert tupla_secuencia[3] == 41\n",
        "        assert tupla_secuencia[4] == 47\n",
        "    except AssertionError as e:\n",
        "        e.args += (\"Tu respuesta es incorrecta.\",)\n",
        "        raise e\n",
        "\n",
        "except:\n",
        "    # Restaurar variables base originales\n",
        "    lim_inferior = 3\n",
        "    lim_superior = 53\n",
        "    raise\n",
        "\n",
        "finally:\n",
        "    # Restaurar variables base originales\n",
        "    lim_inferior = 3\n",
        "    lim_superior = 53\n",
        "\n",
        "# Mensaje de felicitaciones\n",
        "print(\"Felicidades, realizaste este ejercicio correctamente.\")"
      ]
    },
    {
      "cell_type": "markdown",
      "metadata": {
        "deletable": false,
        "editable": false,
        "nbgrader": {
          "cell_type": "markdown",
          "checksum": "df2eb4015334e1584c60ba310edd34c0",
          "grade": false,
          "grade_id": "ej11-enun",
          "locked": true,
          "schema_version": 3,
          "solution": false,
          "task": false
        },
        "id": "J8jqwCOacyB3"
      },
      "source": [
        "## La fábrica de muebles\n",
        "\n",
        "Una fábrica de muebles hace escritorios a la medida con dos tipos de madera: caoba y arce. La empresa registró los pedidos semanales de ambas referencias de madera: en la primera semana debe fabricar tres escritorios de caoba y dos de arce, en la segunda semana necesita dos escritorios de caoba y cuatro de arce, y en la última semana un escritorio de cada tipo.\n",
        "\n",
        "En la siguiente celda encontrarás tres tuplas que hacen referencia a los pedidos de cada semana.\n",
        "\n",
        "*Resuelve los ejercicios 11 y 12 con base en este enunciado.*"
      ]
    },
    {
      "cell_type": "code",
      "execution_count": 45,
      "metadata": {
        "deletable": false,
        "editable": false,
        "nbgrader": {
          "cell_type": "code",
          "checksum": "0cae4d5c5fca31a73070580c5a1388e1",
          "grade": false,
          "grade_id": "ej11-data",
          "locked": true,
          "schema_version": 3,
          "solution": false,
          "task": false
        },
        "id": "rpl_uxWVcyB3"
      },
      "outputs": [],
      "source": [
        "# No modifiques esta celda\n",
        "\n",
        "pedidos_semana_1 = (3,2)\n",
        "pedidos_semana_2 = (2,4)\n",
        "pedidos_semana_3 = (1,1)"
      ]
    },
    {
      "cell_type": "markdown",
      "metadata": {
        "deletable": false,
        "editable": false,
        "nbgrader": {
          "cell_type": "markdown",
          "checksum": "0a8371629d2dabb7eb0843625f028c34",
          "grade": false,
          "grade_id": "ej11-task",
          "locked": true,
          "schema_version": 3,
          "solution": false,
          "task": false
        },
        "id": "NNvP-zodcyB3"
      },
      "source": [
        "### Ejercicio 11\n",
        "\n",
        "Declara una tupla con el nombre `tupla_pedidos` que anide las tres tuplas declaradas en la anterior celda de código. La tupla `tupla_pedidos` debe quedar en órden cronológico."
      ]
    },
    {
      "cell_type": "code",
      "execution_count": 46,
      "metadata": {
        "deletable": false,
        "nbgrader": {
          "cell_type": "code",
          "checksum": "6fba88109028c5d650bfa80fe20cd90f",
          "grade": false,
          "grade_id": "ej11-sol",
          "locked": false,
          "schema_version": 3,
          "solution": true,
          "task": false
        },
        "nombre": "Ej11",
        "id": "4thLj5MMcyB4"
      },
      "outputs": [],
      "source": [
        "# your code here\n",
        "tupla_pedidos = (pedidos_semana_1, pedidos_semana_2, pedidos_semana_3)"
      ]
    },
    {
      "cell_type": "code",
      "execution_count": 47,
      "metadata": {
        "deletable": false,
        "editable": false,
        "nbgrader": {
          "cell_type": "code",
          "checksum": "2cf1ae96656f8ebe1616ef7f240f4278",
          "grade": true,
          "grade_id": "ej11-test",
          "locked": true,
          "points": 1,
          "schema_version": 3,
          "solution": false,
          "task": false
        },
        "id": "l1FzxQ9tcyB4",
        "colab": {
          "base_uri": "https://localhost:8080/"
        },
        "outputId": "f6cc6d8e-196c-4af4-85f5-f72252c594dd"
      },
      "outputs": [
        {
          "output_type": "stream",
          "name": "stdout",
          "text": [
            "Felicidades, realizaste este ejercicio correctamente.\n"
          ]
        }
      ],
      "source": [
        "## PRUEBAS\n",
        "\n",
        "# Base variables\n",
        "pedidos_semana_1 = (5,4)\n",
        "pedidos_semana_2 = (3,3)\n",
        "pedidos_semana_3 = (1,6)\n",
        "\n",
        "try:\n",
        "    # Caso 1: no existe la tupla.\n",
        "    try:\n",
        "        tupla_pedidos\n",
        "    except:\n",
        "        raise NotImplementedError(\"No declaraste una variable llamada tupla_pedidos.\",)\n",
        "\n",
        "    # Caso 2: el código se ejecuta con errores\n",
        "    try:\n",
        "        exec(_i)\n",
        "    except:\n",
        "        raise RuntimeError(\"Tu código produce un error al ejecutarse.\")\n",
        "\n",
        "    # Caso 3: el código modifica los parametros del problema\n",
        "    try:\n",
        "        assert pedidos_semana_1 == (5,4)\n",
        "        assert pedidos_semana_2 == (3,3)\n",
        "        assert pedidos_semana_3 == (1,6)\n",
        "    except:\n",
        "        raise AssertionError(\"Tu código no debe modificar los datos del problema.\")\n",
        "\n",
        "    # Caso 4: no es una tupla.\n",
        "    assert type(tupla_pedidos) == tuple, f\"Tu variable tupla_pedidos no es de tipo {tuple.__name__}.\"\n",
        "\n",
        "    # Caso 5: el código no utiliza las variables pedidos_semana_1, pedidos_semana_2 y pedidos_semana_3\n",
        "    assert _i.find(\"pedidos_semana_1\") >= 0, \"Tu código no utiliza la variable pedidos_semana_1.\"\n",
        "    assert _i.find(\"pedidos_semana_2\") >= 0, \"Tu código no utiliza la variable pedidos_semana_2.\"\n",
        "    assert _i.find(\"pedidos_semana_3\") >= 0, \"Tu código no utiliza la variable pedidos_semana_3.\"\n",
        "\n",
        "    # Caso 6: la tupla contiene valores de tipo incorrecto\n",
        "    for i in tupla_pedidos:\n",
        "        assert type(i) == tuple, f\"Tu tupla contiene valores que no son de tipo {tuple.__name__}. Es posible que no tengas las tuplas anidadas.\"\n",
        "\n",
        "    # Caso 7: la lista no contiene los valores esperados\n",
        "    try:\n",
        "        assert tupla_pedidos.count((5,4)) >= 1\n",
        "        assert tupla_pedidos.count((3,3)) >= 1\n",
        "        assert tupla_pedidos.count((1,6)) >= 1\n",
        "    except AssertionError as e:\n",
        "        e.args += (\"Tu lista no contiene los valores correctos.\",)\n",
        "        raise e\n",
        "\n",
        "    # Caso 8: la tupla tiene el tamaño incorrecto\n",
        "    assert len(tupla_pedidos) == 3, \"Tu tupla no tiene el tamaño correcto.\"\n",
        "\n",
        "    # Caso 9: la tupla es correcta\n",
        "    try:\n",
        "        assert tupla_pedidos[0] == (5,4)\n",
        "        assert tupla_pedidos[1] == (3,3)\n",
        "        assert tupla_pedidos[2] == (1,6)\n",
        "    except AssertionError as e:\n",
        "        e.args += (\"Los valores de tu tupla están desordenados.\",)\n",
        "        raise e\n",
        "\n",
        "except:\n",
        "    # Restaurar variables base originales\n",
        "    pedidos_semana_1 = (3,2)\n",
        "    pedidos_semana_2 = (2,4)\n",
        "    pedidos_semana_3 = (1,1)\n",
        "    raise\n",
        "\n",
        "finally:\n",
        "    # Restaurar variables base originales y respuesta estudiante\n",
        "    pedidos_semana_1 = (3,2)\n",
        "    pedidos_semana_2 = (2,4)\n",
        "    pedidos_semana_3 = (1,1)\n",
        "    exec(_i)\n",
        "\n",
        "# Mensaje de felicitaciones\n",
        "print(\"Felicidades, realizaste este ejercicio correctamente.\")"
      ]
    },
    {
      "cell_type": "markdown",
      "metadata": {
        "deletable": false,
        "editable": false,
        "nbgrader": {
          "cell_type": "markdown",
          "checksum": "12cb6b10784aa622814f470fc3e16095",
          "grade": false,
          "grade_id": "ej12-task",
          "locked": true,
          "schema_version": 3,
          "solution": false,
          "task": false
        },
        "id": "96P3Cn18cyB4"
      },
      "source": [
        "### Ejercicio 12\n",
        "\n",
        "Utiliza la función de Python `sum` para obtener el total de pedidos de la semana `s` y almacena el resultado en una variable llamada `total_pedidos_semana_s`. Haz uso de la tupla `tupla_pedidos`."
      ]
    },
    {
      "cell_type": "code",
      "execution_count": 51,
      "metadata": {
        "deletable": false,
        "editable": false,
        "nbgrader": {
          "cell_type": "code",
          "checksum": "315ba37abb8c241b69acc7e92f2ea718",
          "grade": false,
          "grade_id": "ej12-data",
          "locked": true,
          "schema_version": 3,
          "solution": false,
          "task": false
        },
        "id": "tbYNW1MmcyB4"
      },
      "outputs": [],
      "source": [
        "# No modifiques esta celda\n",
        "\n",
        "s = 2"
      ]
    },
    {
      "cell_type": "code",
      "execution_count": 52,
      "metadata": {
        "deletable": false,
        "nbgrader": {
          "cell_type": "code",
          "checksum": "bdefc95b4bc60ae1f32795a888f64b43",
          "grade": false,
          "grade_id": "ej12-sol",
          "locked": false,
          "schema_version": 3,
          "solution": true,
          "task": false
        },
        "nombre": "Ej12",
        "id": "9T2aQhdHcyB4"
      },
      "outputs": [],
      "source": [
        "# your code here\n",
        "total_pedidos_semana_s = sum(tupla_pedidos[s-1])"
      ]
    },
    {
      "cell_type": "code",
      "execution_count": 53,
      "metadata": {
        "deletable": false,
        "editable": false,
        "nbgrader": {
          "cell_type": "code",
          "checksum": "2f8af32f1e1ab2cbc22ca06be37c8277",
          "grade": true,
          "grade_id": "ej12-test",
          "locked": true,
          "points": 1,
          "schema_version": 3,
          "solution": false,
          "task": false
        },
        "id": "z_jciMjTcyB4",
        "colab": {
          "base_uri": "https://localhost:8080/"
        },
        "outputId": "ff7924c9-3f50-4491-e6ef-6fe0daae00aa"
      },
      "outputs": [
        {
          "output_type": "stream",
          "name": "stdout",
          "text": [
            "Felicidades, realizaste este ejercicio correctamente.\n"
          ]
        }
      ],
      "source": [
        "## PRUEBAS\n",
        "\n",
        "# Base variables\n",
        "s = 1\n",
        "\n",
        "try:\n",
        "    # Caso 1: no existe la variable.\n",
        "    try:\n",
        "        total_pedidos_semana_s\n",
        "    except:\n",
        "        raise NotImplementedError(\"No declaraste una variable llamada total_pedidos_semana_s.\",)\n",
        "\n",
        "    # Caso 2: el código se ejecuta con errores\n",
        "    try:\n",
        "        exec(_i)\n",
        "    except:\n",
        "        raise RuntimeError(\"Tu código produce un error al ejecutarse.\")\n",
        "\n",
        "    # Caso 3: el código modifica los parametros del problema\n",
        "    try:\n",
        "        assert s == 1\n",
        "    except:\n",
        "        raise AssertionError(\"Tu código no debe modificar los datos del problema.\")\n",
        "\n",
        "    # Caso 4: no es un int.\n",
        "    assert type(total_pedidos_semana_s) == int, f\"Tu variable total_pedidos_semana_s no es de tipo {int.__name__}.\"\n",
        "\n",
        "    # Caso 5: el código no utiliza la variable tupla_pedidos\n",
        "    assert _i.find(\"tupla_pedidos\") >= 0, \"Tu código no utiliza la variable tupla_pedidos.\"\n",
        "\n",
        "    # Caso 6: la respuesta es correcta\n",
        "    assert total_pedidos_semana_s == 5, \"Tu respuesta es incorrecta.\"\n",
        "\n",
        "except:\n",
        "    # Restaurar variables base originales\n",
        "    s = 2\n",
        "    raise\n",
        "\n",
        "finally:\n",
        "    # Restaurar variables base originales\n",
        "    s = 2\n",
        "\n",
        "# Mensaje de felicitaciones\n",
        "print(\"Felicidades, realizaste este ejercicio correctamente.\")"
      ]
    },
    {
      "cell_type": "markdown",
      "metadata": {
        "deletable": false,
        "editable": false,
        "nbgrader": {
          "cell_type": "markdown",
          "checksum": "993711d1519b744bcb6b3e1c17c2a76b",
          "grade": false,
          "grade_id": "ej13-enun",
          "locked": true,
          "schema_version": 3,
          "solution": false,
          "task": false
        },
        "id": "7LI8YdnKcyB4"
      },
      "source": [
        "## Meses\n",
        "\n",
        "En la siguiente celda encontrarás un diccionario incompleto con el último día de cada mes del año."
      ]
    },
    {
      "cell_type": "code",
      "execution_count": 69,
      "metadata": {
        "deletable": false,
        "editable": false,
        "nbgrader": {
          "cell_type": "code",
          "checksum": "d6454f37d01834b2c3032ea2a00b4c56",
          "grade": false,
          "grade_id": "ej13-data",
          "locked": true,
          "schema_version": 3,
          "solution": false,
          "task": false
        },
        "id": "xLO9ahKacyB5"
      },
      "outputs": [],
      "source": [
        "# No modifiques esta celda\n",
        "\n",
        "dicc_meses = {\"Enero\":31,\n",
        "              \"Febrero\":28,\n",
        "              \"Marzo\": 31,\n",
        "              \"Abril\": 30,\n",
        "              \"Mayo\":31,\n",
        "              \"Julio\":31,\n",
        "              \"Agosto\":31,\n",
        "              \"Septiembre\":30,\n",
        "              \"Noviembre\":30}"
      ]
    },
    {
      "cell_type": "markdown",
      "metadata": {
        "deletable": false,
        "editable": false,
        "nbgrader": {
          "cell_type": "markdown",
          "checksum": "5a0405a947a85b9f8ca83cafb2dcbc9c",
          "grade": false,
          "grade_id": "ej13-task",
          "locked": true,
          "schema_version": 3,
          "solution": false,
          "task": false
        },
        "id": "nHzC2iULcyB5"
      },
      "source": [
        "### Ejercicio 13\n",
        "\n",
        "Completa el diccionario `dicc_meses` con los meses faltantes."
      ]
    },
    {
      "cell_type": "code",
      "execution_count": 70,
      "metadata": {
        "deletable": false,
        "nbgrader": {
          "cell_type": "code",
          "checksum": "73dddcf654a41fe29a06f7c15d4ee73a",
          "grade": false,
          "grade_id": "ej13-sol",
          "locked": false,
          "schema_version": 3,
          "solution": true,
          "task": false
        },
        "nombre": "Ej13",
        "id": "bjn0idQLcyB5"
      },
      "outputs": [],
      "source": [
        "# your code here\n",
        "dicc_meses[\"Junio\"] = 30\n",
        "dicc_meses[\"Octubre\"] = 31\n",
        "dicc_meses[\"Diciembre\"] = 31"
      ]
    },
    {
      "cell_type": "code",
      "execution_count": 71,
      "metadata": {
        "deletable": false,
        "editable": false,
        "nbgrader": {
          "cell_type": "code",
          "checksum": "31a3c6e33c86141f247540664cb4b734",
          "grade": true,
          "grade_id": "ej13-test",
          "locked": true,
          "points": 1,
          "schema_version": 3,
          "solution": false,
          "task": false
        },
        "id": "ELFiOWB-cyB5",
        "colab": {
          "base_uri": "https://localhost:8080/"
        },
        "outputId": "14f989ce-5c94-4181-d89a-2b0a09a70519"
      },
      "outputs": [
        {
          "output_type": "stream",
          "name": "stdout",
          "text": [
            "Felicidades, realizaste este ejercicio correctamente.\n"
          ]
        }
      ],
      "source": [
        "## PRUEBAS\n",
        "\n",
        "# Caso 1: no existe el diccionario.\n",
        "try:\n",
        "    dicc_meses\n",
        "except:\n",
        "    raise NotImplementedError(\"No existe una variable llamada dicc_meses.\",)\n",
        "\n",
        "# Caso 2: el código se ejecuta con errores\n",
        "try:\n",
        "    exec(_i)\n",
        "except:\n",
        "    raise RuntimeError(\"Tu código produce un error al ejecutarse.\")\n",
        "\n",
        "# Caso 3: no es un diccionario.\n",
        "assert type(dicc_meses) == dict, f\"Tu variable dicc_meses no es de tipo {dict.__name__}.\"\n",
        "\n",
        "# Caso 4: el código no utiliza el diccionario dicc_meses\n",
        "assert _i.find(\"dicc_meses\") >= 0, \"Tu código no utiliza el diccionario dicc_meses.\"\n",
        "\n",
        "# Caso 5: el diccionario contiene valores de tipo incorrecto\n",
        "for i in dicc_meses.keys():\n",
        "    assert type(i) == str, f\"Tu diccionario contiene llaves que no son de tipo {str.__name__}.\"\n",
        "\n",
        "for j in dicc_meses.values():\n",
        "    assert type(j) == int, f\"Tu diccionario contiene valores que no son de tipo {int.__name__}.\"\n",
        "\n",
        "# Caso 6: el diccionario tiene el tamaño incorrecto\n",
        "assert len(dicc_meses) == 12, \"Tu diccionario no tiene el tamaño correcto.\"\n",
        "\n",
        "# Caso 7: el diccionario no contiene los valores/llaves correctos/as\n",
        "assert set(dicc_meses.keys()) == {'Diciembre', 'Noviembre', 'Octubre', 'Septiembre', 'Agosto', 'Julio', 'Junio', 'Mayo', 'Abril', 'Marzo', 'Febrero', 'Enero'}, \"Las llaves de tu diccionario no son correctas.\"\n",
        "assert set(dicc_meses.values()) == {31, 31, 31, 31, 31, 31, 31, 30, 30, 30, 30, 28}, \"Los valores de tu diccionario no son correctos.\"\n",
        "\n",
        "# Caso 8: el diccionario es correcto\n",
        "try:\n",
        "    assert dicc_meses['Enero'] == 31\n",
        "    assert dicc_meses['Febrero'] == 28\n",
        "    assert dicc_meses['Marzo'] == 31\n",
        "    assert dicc_meses['Abril'] == 30\n",
        "    assert dicc_meses['Mayo'] == 31\n",
        "    assert dicc_meses['Junio'] == 30\n",
        "    assert dicc_meses['Julio'] == 31\n",
        "    assert dicc_meses['Agosto'] == 31\n",
        "    assert dicc_meses['Septiembre'] == 30\n",
        "    assert dicc_meses['Octubre'] == 31\n",
        "    assert dicc_meses['Noviembre'] == 30\n",
        "    assert dicc_meses['Diciembre'] == 31\n",
        "except AssertionError as e:\n",
        "    e.args += (\"Tu respuesta es incorrecta.\",)\n",
        "    raise e\n",
        "\n",
        "# Mensaje de felicitaciones\n",
        "print(\"Felicidades, realizaste este ejercicio correctamente.\")"
      ]
    },
    {
      "cell_type": "markdown",
      "metadata": {
        "deletable": false,
        "editable": false,
        "nbgrader": {
          "cell_type": "markdown",
          "checksum": "83cf236f6a91a3097d929be95eb0f81e",
          "grade": false,
          "grade_id": "ej14-enun",
          "locked": true,
          "schema_version": 3,
          "solution": false,
          "task": false
        },
        "id": "nOdSY8WjcyB5"
      },
      "source": [
        "## Una matriz en un diccionario\n",
        "\n",
        "Adaptado de Downey, A., Elkner, J., & Meyers, C. (2012).\n",
        "\n",
        "Una tienda de videojuegos está analizando si una familia comprará la nueva consola de videojuegos con base en dos variables: el número de hijos (un hijo o más) y las horas que comparten los padres al día con sus hijos (una hora o más). La compañía representó sus resultados en la siguiente matriz, donde las columnas corresponden al número de hijos y las filas al número de horas diarias que los padres comparten con sus hijos:\n",
        "\n",
        "$$\\begin{matrix} 0 & 1 & 0 & 1 & 1 \\\\ 0 & 0 & 0 & 0 & 1 \\\\ 1 & 0 & 0 & 1 & 0 \\\\ 1 & 0 & 1 & 0 & 1 \\end{matrix}$$\n",
        "\n",
        "Según esta matriz, una familia en la que los padres disponen de tres horas para compartir con sus hijos y que tiene cuatro hijos comprará la consola de videojuegos. Asimismo, en una familia en la que los padres disponen de una hora para compartir con sus hijos y que tiene tres hijos no la comprará.\n",
        "\n",
        "*Resuelve los ejercicios 14 y 15 con base en este enunciado.*"
      ]
    },
    {
      "cell_type": "markdown",
      "metadata": {
        "deletable": false,
        "editable": false,
        "nbgrader": {
          "cell_type": "markdown",
          "checksum": "d7ed736e619edbf9154df7982c7fcd56",
          "grade": false,
          "grade_id": "ej14-task",
          "locked": true,
          "schema_version": 3,
          "solution": false,
          "task": false
        },
        "id": "7aAlPC6PcyB5"
      },
      "source": [
        "### Ejercicio 14\n",
        "\n",
        "Crea un diccionario con el nombre `matriz`, que contenga únicamente los casos en los que la familia comprará la consola. Las llaves del dicccionario deben ser tuplas que indiquen la cantidad de horas y cantidad de hijos. Además, tanto los componentes de la llave como el valor deben ser númericos. Si también representas los casos en los que la familia no comprará la consola, no obtendrás puntuación."
      ]
    },
    {
      "cell_type": "code",
      "execution_count": 64,
      "metadata": {
        "deletable": false,
        "nbgrader": {
          "cell_type": "code",
          "checksum": "1ffc1f5301433e405a3b91a129ae9960",
          "grade": false,
          "grade_id": "ej14-sol",
          "locked": false,
          "schema_version": 3,
          "solution": true,
          "task": false
        },
        "nombre": "Ej14",
        "id": "UdQQCoBocyB5"
      },
      "outputs": [],
      "source": [
        "# your code here\n",
        "matriz = {(1,2):1, (1,4):1, (1,5):1, (2,5):1, (3,1):1, (3,4):1, (4,1):1, (4,3):1, (4,5):1}"
      ]
    },
    {
      "cell_type": "code",
      "execution_count": 65,
      "metadata": {
        "deletable": false,
        "editable": false,
        "nbgrader": {
          "cell_type": "code",
          "checksum": "38e12d7c2caa202bd3d5ee4628c14359",
          "grade": true,
          "grade_id": "ej14-test",
          "locked": true,
          "points": 1,
          "schema_version": 3,
          "solution": false,
          "task": false
        },
        "id": "h9uC8eS-cyB5",
        "colab": {
          "base_uri": "https://localhost:8080/"
        },
        "outputId": "fbb8c1bf-c685-4eda-a619-5d7be94d3760"
      },
      "outputs": [
        {
          "output_type": "stream",
          "name": "stdout",
          "text": [
            "Felicidades, realizaste este ejercicio correctamente.\n"
          ]
        }
      ],
      "source": [
        "## PRUEBAS\n",
        "\n",
        "# Caso 1: no existe el dicccionario.\n",
        "try:\n",
        "    matriz\n",
        "except:\n",
        "    raise NotImplementedError(\"No declaraste una variable llamada matriz.\",)\n",
        "\n",
        "# Caso 2: el código se ejecuta con errores\n",
        "try:\n",
        "    exec(_i)\n",
        "except:\n",
        "    raise RuntimeError(\"Tu código produce un error al ejecutarse.\")\n",
        "\n",
        "# Caso 3: no es un diccionario.\n",
        "assert type(matriz) == dict, f\"Tu variable matriz no es de tipo {dict.__name__}.\"\n",
        "\n",
        "# Caso 4: el diccionario contiene valores de tipo incorrecto\n",
        "for i in matriz.keys():\n",
        "    assert type(i) == tuple, f\"Tu diccionario contiene llaves que no son de tipo {tuple.__name__}.\"\n",
        "\n",
        "for j in matriz.values():\n",
        "    assert type(j) == int, f\"Tu diccionario contiene valores que no son de tipo {int.__name__}.\"\n",
        "    assert j == 1, \"Tu diccionario representa casos en los que la familia no comprará la consola.\"\n",
        "\n",
        "# Caso 5: el diccionario tiene el tamaño incorrecto\n",
        "assert len(matriz) == 9, \"Tu diccionario no tiene el tamaño correcto.\"\n",
        "\n",
        "# Caso 6: el diccionario es correcto\n",
        "assert set(matriz.keys()) == {(1,2), (1,4), (1,5), (2,5), (3,1), (3,4), (4,1), (4,3), (4,5)}, \"Las llaves de tu diccionario no son correctas.\"\n",
        "\n",
        "# Mensaje de felicitaciones\n",
        "print(\"Felicidades, realizaste este ejercicio correctamente.\")"
      ]
    },
    {
      "cell_type": "markdown",
      "metadata": {
        "deletable": false,
        "editable": false,
        "nbgrader": {
          "cell_type": "markdown",
          "checksum": "482d1af50a42b3e312a867e5b31b77ed",
          "grade": false,
          "grade_id": "ej15-task",
          "locked": true,
          "schema_version": 3,
          "solution": false,
          "task": false
        },
        "id": "59ORCIVbcyB6"
      },
      "source": [
        "### Ejercicio 15\n",
        "\n",
        "Consulta el diccionario para saber si una familia, que tiene `h` hijos y en la que los padres disponen de `t` horas diarias para compartir con ellos, comprará la consola. Debes hacer uso del diccionario `matriz` y no lo puedes modificar. Guarda el valor resultante en una variable que se llame `prediccion_familia`.\n",
        "\n",
        "**Nota**: la variable `prediccion_familia` debe tomar el valor de 1 si la familia comprará la consola, y 0 en caso contrario."
      ]
    },
    {
      "cell_type": "code",
      "execution_count": 66,
      "metadata": {
        "deletable": false,
        "editable": false,
        "nbgrader": {
          "cell_type": "code",
          "checksum": "cfe2d26936f5129fbc22b1be7d9b960e",
          "grade": false,
          "grade_id": "ej15-data",
          "locked": true,
          "schema_version": 3,
          "solution": false,
          "task": false
        },
        "id": "tPH_OmdycyB6"
      },
      "outputs": [],
      "source": [
        "# No modifiques esta celda\n",
        "\n",
        "h = 5\n",
        "t = 2"
      ]
    },
    {
      "cell_type": "code",
      "execution_count": 67,
      "metadata": {
        "deletable": false,
        "nbgrader": {
          "cell_type": "code",
          "checksum": "8adaff733e16e4152ce848ae4598488d",
          "grade": false,
          "grade_id": "ej15-sol",
          "locked": false,
          "schema_version": 3,
          "solution": true,
          "task": false
        },
        "nombre": "Ej15",
        "id": "H9tP4oYPcyB6"
      },
      "outputs": [],
      "source": [
        "# your code here\n",
        "prediccion_familia = matriz.get((t,h), 0)"
      ]
    },
    {
      "cell_type": "code",
      "execution_count": 68,
      "metadata": {
        "deletable": false,
        "editable": false,
        "nbgrader": {
          "cell_type": "code",
          "checksum": "354ea064ff09805e214f851fdb49e180",
          "grade": true,
          "grade_id": "ej15-test",
          "locked": true,
          "points": 1,
          "schema_version": 3,
          "solution": false,
          "task": false
        },
        "id": "5M_05abbcyB6",
        "colab": {
          "base_uri": "https://localhost:8080/"
        },
        "outputId": "952ad7e0-b99e-4841-e764-20ada42dfc8c"
      },
      "outputs": [
        {
          "output_type": "stream",
          "name": "stdout",
          "text": [
            "Felicidades, realizaste este ejercicio correctamente.\n"
          ]
        }
      ],
      "source": [
        "## PRUEBAS\n",
        "\n",
        "# Base variables\n",
        "h = 4\n",
        "t = 4\n",
        "\n",
        "try:\n",
        "    # Caso 1: no existe la variable.\n",
        "    try:\n",
        "        prediccion_familia\n",
        "    except:\n",
        "        raise NotImplementedError(\"No declaraste una variable llamada prediccion_familia.\",)\n",
        "\n",
        "    # Caso 2: el código se ejecuta con errores\n",
        "    try:\n",
        "        exec(_i)\n",
        "    except:\n",
        "        raise RuntimeError(\"Tu código produce un error al ejecutarse.\")\n",
        "\n",
        "    # Caso 3: el código modifica los parametros del problema\n",
        "    try:\n",
        "        assert h == 4\n",
        "        assert t == 4\n",
        "    except:\n",
        "        raise AssertionError(\"Tu código no debe modificar los datos del problema.\")\n",
        "\n",
        "    # Caso 4: no es un int.\n",
        "    assert type(prediccion_familia) == int, f\"Tu variable prediccion_familia no es de tipo {int.__name__}.\"\n",
        "\n",
        "    # Caso 5: el código no utiliza la variable matriz\n",
        "    assert _i.find(\"matriz\") >= 0, \"Tu código no utiliza la variable matriz.\"\n",
        "\n",
        "    # Caso 6: la respuesta es correcta\n",
        "    assert prediccion_familia == 0, \"Tu respuesta es incorrecta. Recuerda que debes representar con un 0 el caso en el que la familia no comprará la consola.\"\n",
        "\n",
        "except:\n",
        "    # Restaurar variables base originales\n",
        "    h = 5\n",
        "    t = 2\n",
        "    raise\n",
        "\n",
        "finally:\n",
        "    # Restaurar variables base originales\n",
        "    h = 5\n",
        "    t = 2\n",
        "\n",
        "# Mensaje de felicitaciones\n",
        "print(\"Felicidades, realizaste este ejercicio correctamente.\")"
      ]
    },
    {
      "cell_type": "markdown",
      "metadata": {
        "deletable": false,
        "editable": false,
        "nbgrader": {
          "cell_type": "markdown",
          "checksum": "cd86abc644a30e6e9291938ed9ee6f73",
          "grade": false,
          "grade_id": "refs",
          "locked": true,
          "schema_version": 3,
          "solution": false,
          "task": false
        },
        "id": "8NUhIS5OcyB6"
      },
      "source": [
        "## Referencias\n",
        "\n",
        "Downey, A., Elkner, J., & Meyers, C. (2012). How To Think Like A Computer Scientist: Learning with Python. Segunda Edición. Recuperado de: https://www.openbookproject.net/thinkcs/python/english2e/index.html"
      ]
    },
    {
      "cell_type": "markdown",
      "metadata": {
        "deletable": false,
        "editable": false,
        "nbgrader": {
          "cell_type": "markdown",
          "checksum": "60f99b70e8a95006876bfbdb1436b3d2",
          "grade": false,
          "grade_id": "creds",
          "locked": true,
          "schema_version": 3,
          "solution": false,
          "task": false
        },
        "id": "7Mr2f2NQcyB6"
      },
      "source": [
        "## Créditos\n",
        "\n",
        "__Autores__: Jorge Esteban Camargo Forero, Juan Felipe Rengifo Méndez, Alejandro Mantilla Redondo, Diego Alejandro Cely Gómez\n",
        "\n",
        "__Fecha última actualización__: 07/07/2022"
      ]
    }
  ],
  "metadata": {
    "kernelspec": {
      "display_name": "Python 3.10.7 64-bit",
      "language": "python",
      "name": "python3"
    },
    "language_info": {
      "codemirror_mode": {
        "name": "ipython",
        "version": 3
      },
      "file_extension": ".py",
      "mimetype": "text/x-python",
      "name": "python",
      "nbconvert_exporter": "python",
      "pygments_lexer": "ipython3",
      "version": "3.10.7"
    },
    "vscode": {
      "interpreter": {
        "hash": "8b8193576751691e149fe4b02bd81acb44aebb7039077c15be9d1f0082e2f63d"
      }
    },
    "colab": {
      "provenance": []
    }
  },
  "nbformat": 4,
  "nbformat_minor": 0
}